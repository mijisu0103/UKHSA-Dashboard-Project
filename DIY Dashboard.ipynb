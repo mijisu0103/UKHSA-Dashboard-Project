{
 "cells": [
  {
   "cell_type": "markdown",
   "metadata": {},
   "source": [
    "# Jisu's DIY COVID-19 DASHBOARD Project"
   ]
  },
  {
   "cell_type": "markdown",
   "metadata": {},
   "source": [
    "## What is this project about \n",
    "This project was done as a part of coursework for ECS780P - Computer Programming. <br>\n",
    "The assignment required me to develop a simple dashboard that downloads and displays the data about infectious diseases from the UK Health Security Agency (UKHSA) dashboard. \n",
    "\n",
    "<br>\n",
    "\n",
    "### Learning Objectives\n",
    "- Accessing web-based Application Programming Interfaces (APIs)\n",
    "- JSON data interchange file format\n",
    "- Basic usage of the Pandas data analysis library and its plotting capabilities (supplied by Matplotlib)\n",
    "- Building a basic Graphical User Interface (GUI) using iPython Widgets\n",
    "- Voila dashboarding tool for Python\n",
    "- The basics of GitHub repositories and Binders\n",
    "- Managing a small software project of practical applicability\n",
    "\n",
    "<br>\n",
    "\n",
    "### Requirements\n",
    "- Implement a simple dashboard that can:\n",
    "    - read pandemic statistics stored in a JSON file \n",
    "    - upon user request, download current data on a chosen disease from the UKHSA website via its API\n",
    "    - display such data in the form of one or more graphs\n",
    "    - allow the user to interact with said graphs via interactive widgets\n",
    "    - set up a GitHub repository for the software\n",
    "    - make the dashboard available online as a Binder\n",
    "\n",
    "<br>\n",
    "\n",
    "### Chosen Disease Data\n",
    "- Influenza\n",
    "- Rhinovirus (Common Cold)\n",
    "- COVID-19\n",
    "\n",
    "<br>\n",
    "\n",
    "### Motivation of Choosing These Three Diseases\n",
    "As the weather gets colder, it is common for people to feel unwell. Whether it is a cough, sore throat, or fatigue, it is easy to wonder if one has caught a cold (Rhinovirus) or flu (Influenza) or COVID-19. This is because all three share similar symptoms. This overlap can make it difficult for one to determine which illness one might have. For this reason, I decided to compare and contrast these three diseases using data from the UKHSA.\n",
    "\n",
    "<br>\n",
    "\n",
    "### What I am doing specifically using such data\n",
    "To be specific, I am using these APIs for this project:\n",
    "- Influenza percentage of positive PCR tests in a 7 day period\n",
    "- Rhinovirus(Common cold) percentage of positive PCR tests in a 7 day period\n",
    "- Covid-19 percentage of positive PCR tests in a 7 day rolling period\n",
    "\n",
    "<br>\n",
    "\n",
    "The first two APIs provide the weekly average percentage of positive PCR tests for Influenza and Rhinovirus, while the third API offers the daily percentage of positive PCR tests for COVID-19. To ensure consistency in the comparison, adjusting the data from the third API to align with the weekly average format used by the first two is required. Eventually, the weekly average percentage of positive PCR tests for Influenza, Rhinovirus, and COVID-19 will be compared. \n",
    "\n",
    "<br>\n",
    "\n",
    "The UKHSA has been experiencing technical issues in updating the percentage of positive PCR tests for COVID-19, which has resulted in \"NaN\" (Not a Number) values in the data. I have chosen not to fill these missing values with zeros, as doing so could misrepresent the actual situation and lead to inaccurate conclusions. While I am transforming the daily data to a weekly format to compare it with the Influenza and Rhinovirus data, this transformation does not alter the underlying data itself — it is only the aggregation method. By leaving the NaN values unchanged, I have tried to maintain the integrity of the analysis and ensure that any gaps in reporting are accurately reflected.\n",
    "\n",
    "<br>\n",
    "\n",
    "It is important to note that, as I am using live APIs, the data is continually updated. Once the UKHSA resolves the technical issues and updates the data, the missing values (NaNs) will be replaced with the most current information. Therefore, the NaN values are temporary, and the analysis will reflect the updated data when it becomes available.\n",
    "\n",
    "<br>\n",
    "\n",
    "### Table of content\n",
    "1. Accessing UKHSA Data\n",
    "2. Visualising the Data\n",
    "3. Adding Interactive Controls\n",
    "\n",
    "<br>"
   ]
  },
  {
   "cell_type": "markdown",
   "metadata": {},
   "source": [
    "***"
   ]
  },
  {
   "cell_type": "markdown",
   "metadata": {},
   "source": [
    "## Accessing UKHSA Data"
   ]
  },
  {
   "cell_type": "markdown",
   "metadata": {
    "vscode": {
     "languageId": "plaintext"
    }
   },
   "source": [
    "### The UKHSA web-based API"
   ]
  },
  {
   "cell_type": "markdown",
   "metadata": {
    "vscode": {
     "languageId": "plaintext"
    }
   },
   "source": [
    "Source: https://ukhsa-dashboard.data.gov.uk/"
   ]
  },
  {
   "cell_type": "markdown",
   "metadata": {
    "vscode": {
     "languageId": "plaintext"
    }
   },
   "source": [
    "- The URL path should be appened after API access point: https://api.ukhsa-dashboard.data.gov.uk/\n",
    "- URL path format: /themes/{theme}/sub_themes/{sub_theme}/topics/{topic}/geography_types/{geography_type}/geographies/{geography}/metrics/{metric}"
   ]
  },
  {
   "cell_type": "markdown",
   "metadata": {},
   "source": [
    "### API addresses that I am using for this project:"
   ]
  },
  {
   "cell_type": "markdown",
   "metadata": {
    "vscode": {
     "languageId": "plaintext"
    }
   },
   "source": [
    "Influenza percentage of positive PCR tests in a 7 day period <br>\n",
    "https://api.ukhsa-dashboard.data.gov.uk/themes/infectious_disease/sub_themes/respiratory/topics/Influenza/geography_types/Nation/geographies/England/metrics/influenza_testing_positivityByWeek\n",
    "\n",
    "Rhinovirus(Common cold) percentage of positive PCR tests in a 7 day period <br>\n",
    "https://api.ukhsa-dashboard.data.gov.uk/themes/infectious_disease/sub_themes/respiratory/topics/Rhinovirus/geography_types/Nation/geographies/England/metrics/rhinovirus_testing_positivityByWeek\n",
    "\n",
    "Covid-19 percentage of positive PCR tests in a 7 day rolling period <br>\n",
    "https://api.ukhsa-dashboard.data.gov.uk/themes/infectious_disease/sub_themes/respiratory/topics/COVID-19/geography_types/Nation/geographies/England/metrics/COVID-19_testing_positivity7DayRolling"
   ]
  },
  {
   "cell_type": "code",
   "execution_count": 1,
   "metadata": {},
   "outputs": [
    {
     "name": "stdout",
     "output_type": "stream",
     "text": [
      "--2024-11-29 02:18:20--  https://api.ukhsa-dashboard.data.gov.uk/themes/infectious_disease/sub_themes/respiratory/topics/Influenza/geography_types/Nation/geographies/England/metrics/influenza_testing_positivityByWeek\n",
      "Resolving api.ukhsa-dashboard.data.gov.uk (api.ukhsa-dashboard.data.gov.uk)... 108.138.217.88, 108.138.217.92, 108.138.217.42, ...\n",
      "Connecting to api.ukhsa-dashboard.data.gov.uk (api.ukhsa-dashboard.data.gov.uk)|108.138.217.88|:443... connected.\n",
      "HTTP request sent, awaiting response... 200 OK\n",
      "Length: 2147 (2.1K) [application/json]\n",
      "Saving to: ‘influenza_testing_positivityByWeek’\n",
      "\n",
      "influenza_testing_p 100%[===================>]   2.10K  --.-KB/s    in 0s      \n",
      "\n",
      "2024-11-29 02:18:21 (512 MB/s) - ‘influenza_testing_positivityByWeek’ saved [2147/2147]\n",
      "\n",
      "--2024-11-29 02:18:21--  https://api.ukhsa-dashboard.data.gov.uk/themes/infectious_disease/sub_themes/respiratory/topics/Rhinovirus/geography_types/Nation/geographies/England/metrics/rhinovirus_testing_positivityByWeek\n",
      "Resolving api.ukhsa-dashboard.data.gov.uk (api.ukhsa-dashboard.data.gov.uk)... 108.138.217.88, 108.138.217.92, 108.138.217.42, ...\n",
      "Connecting to api.ukhsa-dashboard.data.gov.uk (api.ukhsa-dashboard.data.gov.uk)|108.138.217.88|:443... connected.\n",
      "HTTP request sent, awaiting response... 200 OK\n",
      "Length: 2161 (2.1K) [application/json]\n",
      "Saving to: ‘rhinovirus_testing_positivityByWeek’\n",
      "\n",
      "rhinovirus_testing_ 100%[===================>]   2.11K  --.-KB/s    in 0s      \n",
      "\n",
      "2024-11-29 02:18:21 (412 MB/s) - ‘rhinovirus_testing_positivityByWeek’ saved [2161/2161]\n",
      "\n",
      "--2024-11-29 02:18:22--  https://api.ukhsa-dashboard.data.gov.uk/themes/infectious_disease/sub_themes/respiratory/topics/COVID-19/geography_types/Nation/geographies/England/metrics/COVID-19_testing_positivity7DayRolling\n",
      "Resolving api.ukhsa-dashboard.data.gov.uk (api.ukhsa-dashboard.data.gov.uk)... 108.138.217.88, 108.138.217.92, 108.138.217.42, ...\n",
      "Connecting to api.ukhsa-dashboard.data.gov.uk (api.ukhsa-dashboard.data.gov.uk)|108.138.217.88|:443... connected.\n",
      "HTTP request sent, awaiting response... 200 OK\n",
      "Length: 2153 (2.1K) [application/json]\n",
      "Saving to: ‘COVID-19_testing_positivity7DayRolling’\n",
      "\n",
      "COVID-19_testing_po 100%[===================>]   2.10K  --.-KB/s    in 0s      \n",
      "\n",
      "2024-11-29 02:18:22 (684 MB/s) - ‘COVID-19_testing_positivity7DayRolling’ saved [2153/2153]\n",
      "\n"
     ]
    }
   ],
   "source": [
    "# Save data to the files\n",
    "# Influenza\n",
    "!wget https://api.ukhsa-dashboard.data.gov.uk/themes/infectious_disease/sub_themes/respiratory/topics/Influenza/geography_types/Nation/geographies/England/metrics/influenza_testing_positivityByWeek\n",
    "\n",
    "# Rhinovirus (Common Cold)\n",
    "!wget https://api.ukhsa-dashboard.data.gov.uk/themes/infectious_disease/sub_themes/respiratory/topics/Rhinovirus/geography_types/Nation/geographies/England/metrics/rhinovirus_testing_positivityByWeek\n",
    "\n",
    "# Covid-19\n",
    "!wget https://api.ukhsa-dashboard.data.gov.uk/themes/infectious_disease/sub_themes/respiratory/topics/COVID-19/geography_types/Nation/geographies/England/metrics/COVID-19_testing_positivity7DayRolling"
   ]
  },
  {
   "cell_type": "code",
   "execution_count": 2,
   "metadata": {},
   "outputs": [
    {
     "name": "stdout",
     "output_type": "stream",
     "text": [
      "{\"count\":3254,\"next\":\"https://api.ukhsa-dashboard.data.gov.uk/themes/infectious_disease/sub_themes/respiratory/topics/Influenza/geography_types/Nation/geographies/England/metrics/influenza_testing_positivityByWeek?page=2\",\"previous\":null,\"results\":[{\"theme\":\"infectious_disease\",\"sub_theme\":\"respiratory\",\"topic\":\"Influenza\",\"geography_type\":\"Nation\",\"geography\":\"England\",\"geography_code\":\"E92000001\",\"metric\":\"influenza_testing_positivityByWeek\",\"metric_group\":\"testing\",\"stratum\":\"default\",\"sex\":\"all\",\"age\":\"45-64\",\"year\":2017,\"month\":7,\"epiweek\":27,\"date\":\"2017-07-03\",\"metric_value\":1.81,\"in_reporting_delay_period\":false},{\"theme\":\"infectious_disease\",\"sub_theme\":\"respiratory\",\"topic\":\"Influenza\",\"geography_type\":\"Nation\",\"geography\":\"England\",\"geography_code\":\"E92000001\",\"metric\":\"influenza_testing_positivityByWeek\",\"metric_group\":\"testing\",\"stratum\":\"default\",\"sex\":\"all\",\"age\":\"80+\",\"year\":2017,\"month\":7,\"epiweek\":27,\"date\":\"2017-07-03\",\"metric_value\":3.17,\"in_reporting_delay_period\":false},{\"theme\":\"infectious_disease\",\"sub_theme\":\"respiratory\",\"topic\":\"Influenza\",\"geography_type\":\"Nation\",\"geography\":\"England\",\"geography_code\":\"E92000001\",\"metric\":\"influenza_testing_positivityByWeek\",\"metric_group\":\"testing\",\"stratum\":\"default\",\"sex\":\"all\",\"age\":\"00-04\",\"year\":2017,\"month\":7,\"epiweek\":27,\"date\":\"2017-07-03\",\"metric_value\":0.35,\"in_reporting_delay_period\":false},{\"theme\":\"infectious_disease\",\"sub_theme\":\"respiratory\",\"topic\":\"Influenza\",\"geography_type\":\"Nation\",\"geography\":\"England\",\"geography_code\":\"E92000001\",\"metric\":\"influenza_testing_positivityByWeek\",\"metric_group\":\"testing\",\"stratum\":\"default\",\"sex\":\"all\",\"age\":\"65-79\",\"year\":2017,\"month\":7,\"epiweek\":27,\"date\":\"2017-07-03\",\"metric_value\":1.76,\"in_reporting_delay_period\":false},{\"theme\":\"infectious_disease\",\"sub_theme\":\"respiratory\",\"topic\":\"Influenza\",\"geography_type\":\"Nation\",\"geography\":\"England\",\"geography_code\":\"E92000001\",\"metric\":\"influenza_testing_positivityByWeek\",\"metric_group\":\"testing\",\"stratum\":\"default\",\"sex\":\"all\",\"age\":\"05-14\",\"year\":2017,\"month\":7,\"epiweek\":27,\"date\":\"2017-07-03\",\"metric_value\":0.0,\"in_reporting_delay_period\":false}]}"
     ]
    }
   ],
   "source": [
    "# To view the file content\n",
    "# Influenza\n",
    "!cat influenza_testing_positivityByWeek\n"
   ]
  },
  {
   "cell_type": "code",
   "execution_count": 3,
   "metadata": {},
   "outputs": [
    {
     "name": "stdout",
     "output_type": "stream",
     "text": [
      "{\"count\":2702,\"next\":\"https://api.ukhsa-dashboard.data.gov.uk/themes/infectious_disease/sub_themes/respiratory/topics/Rhinovirus/geography_types/Nation/geographies/England/metrics/rhinovirus_testing_positivityByWeek?page=2\",\"previous\":null,\"results\":[{\"theme\":\"infectious_disease\",\"sub_theme\":\"respiratory\",\"topic\":\"Rhinovirus\",\"geography_type\":\"Nation\",\"geography\":\"England\",\"geography_code\":\"E92000001\",\"metric\":\"rhinovirus_testing_positivityByWeek\",\"metric_group\":\"testing\",\"stratum\":\"default\",\"sex\":\"all\",\"age\":\"80+\",\"year\":2017,\"month\":7,\"epiweek\":27,\"date\":\"2017-07-03\",\"metric_value\":18.18,\"in_reporting_delay_period\":false},{\"theme\":\"infectious_disease\",\"sub_theme\":\"respiratory\",\"topic\":\"Rhinovirus\",\"geography_type\":\"Nation\",\"geography\":\"England\",\"geography_code\":\"E92000001\",\"metric\":\"rhinovirus_testing_positivityByWeek\",\"metric_group\":\"testing\",\"stratum\":\"default\",\"sex\":\"all\",\"age\":\"15-44\",\"year\":2017,\"month\":7,\"epiweek\":27,\"date\":\"2017-07-03\",\"metric_value\":14.29,\"in_reporting_delay_period\":false},{\"theme\":\"infectious_disease\",\"sub_theme\":\"respiratory\",\"topic\":\"Rhinovirus\",\"geography_type\":\"Nation\",\"geography\":\"England\",\"geography_code\":\"E92000001\",\"metric\":\"rhinovirus_testing_positivityByWeek\",\"metric_group\":\"testing\",\"stratum\":\"default\",\"sex\":\"all\",\"age\":\"all\",\"year\":2017,\"month\":7,\"epiweek\":27,\"date\":\"2017-07-03\",\"metric_value\":16.9,\"in_reporting_delay_period\":false},{\"theme\":\"infectious_disease\",\"sub_theme\":\"respiratory\",\"topic\":\"Rhinovirus\",\"geography_type\":\"Nation\",\"geography\":\"England\",\"geography_code\":\"E92000001\",\"metric\":\"rhinovirus_testing_positivityByWeek\",\"metric_group\":\"testing\",\"stratum\":\"default\",\"sex\":\"all\",\"age\":\"05-14\",\"year\":2017,\"month\":7,\"epiweek\":27,\"date\":\"2017-07-03\",\"metric_value\":17.14,\"in_reporting_delay_period\":false},{\"theme\":\"infectious_disease\",\"sub_theme\":\"respiratory\",\"topic\":\"Rhinovirus\",\"geography_type\":\"Nation\",\"geography\":\"England\",\"geography_code\":\"E92000001\",\"metric\":\"rhinovirus_testing_positivityByWeek\",\"metric_group\":\"testing\",\"stratum\":\"default\",\"sex\":\"all\",\"age\":\"00-04\",\"year\":2017,\"month\":7,\"epiweek\":27,\"date\":\"2017-07-03\",\"metric_value\":28.7,\"in_reporting_delay_period\":false}]}"
     ]
    }
   ],
   "source": [
    "# To view the file content\n",
    "# Rhinovirus (Commond Cold)\n",
    "!cat rhinovirus_testing_positivityByWeek"
   ]
  },
  {
   "cell_type": "code",
   "execution_count": 4,
   "metadata": {},
   "outputs": [
    {
     "name": "stdout",
     "output_type": "stream",
     "text": [
      "{\"count\":1730,\"next\":\"https://api.ukhsa-dashboard.data.gov.uk/themes/infectious_disease/sub_themes/respiratory/topics/COVID-19/geography_types/Nation/geographies/England/metrics/COVID-19_testing_positivity7DayRolling?page=2\",\"previous\":null,\"results\":[{\"theme\":\"infectious_disease\",\"sub_theme\":\"respiratory\",\"topic\":\"COVID-19\",\"geography_type\":\"Nation\",\"geography\":\"England\",\"geography_code\":\"E92000001\",\"metric\":\"COVID-19_testing_positivity7DayRolling\",\"metric_group\":\"testing\",\"stratum\":\"default\",\"sex\":\"all\",\"age\":\"all\",\"year\":2020,\"month\":2,\"epiweek\":6,\"date\":\"2020-02-08\",\"metric_value\":0.93,\"in_reporting_delay_period\":false},{\"theme\":\"infectious_disease\",\"sub_theme\":\"respiratory\",\"topic\":\"COVID-19\",\"geography_type\":\"Nation\",\"geography\":\"England\",\"geography_code\":\"E92000001\",\"metric\":\"COVID-19_testing_positivity7DayRolling\",\"metric_group\":\"testing\",\"stratum\":\"default\",\"sex\":\"all\",\"age\":\"all\",\"year\":2020,\"month\":2,\"epiweek\":6,\"date\":\"2020-02-09\",\"metric_value\":0.88,\"in_reporting_delay_period\":false},{\"theme\":\"infectious_disease\",\"sub_theme\":\"respiratory\",\"topic\":\"COVID-19\",\"geography_type\":\"Nation\",\"geography\":\"England\",\"geography_code\":\"E92000001\",\"metric\":\"COVID-19_testing_positivity7DayRolling\",\"metric_group\":\"testing\",\"stratum\":\"default\",\"sex\":\"all\",\"age\":\"all\",\"year\":2020,\"month\":2,\"epiweek\":7,\"date\":\"2020-02-10\",\"metric_value\":0.68,\"in_reporting_delay_period\":false},{\"theme\":\"infectious_disease\",\"sub_theme\":\"respiratory\",\"topic\":\"COVID-19\",\"geography_type\":\"Nation\",\"geography\":\"England\",\"geography_code\":\"E92000001\",\"metric\":\"COVID-19_testing_positivity7DayRolling\",\"metric_group\":\"testing\",\"stratum\":\"default\",\"sex\":\"all\",\"age\":\"all\",\"year\":2020,\"month\":2,\"epiweek\":7,\"date\":\"2020-02-11\",\"metric_value\":0.64,\"in_reporting_delay_period\":false},{\"theme\":\"infectious_disease\",\"sub_theme\":\"respiratory\",\"topic\":\"COVID-19\",\"geography_type\":\"Nation\",\"geography\":\"England\",\"geography_code\":\"E92000001\",\"metric\":\"COVID-19_testing_positivity7DayRolling\",\"metric_group\":\"testing\",\"stratum\":\"default\",\"sex\":\"all\",\"age\":\"all\",\"year\":2020,\"month\":2,\"epiweek\":7,\"date\":\"2020-02-12\",\"metric_value\":0.48,\"in_reporting_delay_period\":false}]}"
     ]
    }
   ],
   "source": [
    "# To view the file content\n",
    "# Covid-19\n",
    "! cat COVID-19_testing_positivity7DayRolling"
   ]
  },
  {
   "cell_type": "markdown",
   "metadata": {
    "vscode": {
     "languageId": "plaintext"
    }
   },
   "source": [
    "### Using the \"requests\" library"
   ]
  },
  {
   "cell_type": "markdown",
   "metadata": {},
   "source": [
    "- Access the API using the requests library <br>\n",
    "- .json() method parses a JSON response from an API or web service into a Python dictionary"
   ]
  },
  {
   "cell_type": "markdown",
   "metadata": {},
   "source": [
    "Request data on the percentage of positive PCR tests for Influenza over a 7-day period in 2024"
   ]
  },
  {
   "cell_type": "code",
   "execution_count": 5,
   "metadata": {},
   "outputs": [
    {
     "data": {
      "text/plain": [
       "{'count': 47,\n",
       " 'next': 'https://api.ukhsa-dashboard.data.gov.uk/themes/infectious_disease/sub_themes/respiratory/topics/Influenza/geography_types/Nation/geographies/England/metrics/influenza_testing_positivityByWeek?age=all&page=2&year=2024',\n",
       " 'previous': None,\n",
       " 'results': [{'theme': 'infectious_disease',\n",
       "   'sub_theme': 'respiratory',\n",
       "   'topic': 'Influenza',\n",
       "   'geography_type': 'Nation',\n",
       "   'geography': 'England',\n",
       "   'geography_code': 'E92000001',\n",
       "   'metric': 'influenza_testing_positivityByWeek',\n",
       "   'metric_group': 'testing',\n",
       "   'stratum': 'default',\n",
       "   'sex': 'all',\n",
       "   'age': 'all',\n",
       "   'year': 2024,\n",
       "   'month': 1,\n",
       "   'epiweek': 1,\n",
       "   'date': '2024-01-01',\n",
       "   'metric_value': 9.7,\n",
       "   'in_reporting_delay_period': False},\n",
       "  {'theme': 'infectious_disease',\n",
       "   'sub_theme': 'respiratory',\n",
       "   'topic': 'Influenza',\n",
       "   'geography_type': 'Nation',\n",
       "   'geography': 'England',\n",
       "   'geography_code': 'E92000001',\n",
       "   'metric': 'influenza_testing_positivityByWeek',\n",
       "   'metric_group': 'testing',\n",
       "   'stratum': 'default',\n",
       "   'sex': 'all',\n",
       "   'age': 'all',\n",
       "   'year': 2024,\n",
       "   'month': 1,\n",
       "   'epiweek': 2,\n",
       "   'date': '2024-01-08',\n",
       "   'metric_value': 9.98,\n",
       "   'in_reporting_delay_period': False},\n",
       "  {'theme': 'infectious_disease',\n",
       "   'sub_theme': 'respiratory',\n",
       "   'topic': 'Influenza',\n",
       "   'geography_type': 'Nation',\n",
       "   'geography': 'England',\n",
       "   'geography_code': 'E92000001',\n",
       "   'metric': 'influenza_testing_positivityByWeek',\n",
       "   'metric_group': 'testing',\n",
       "   'stratum': 'default',\n",
       "   'sex': 'all',\n",
       "   'age': 'all',\n",
       "   'year': 2024,\n",
       "   'month': 1,\n",
       "   'epiweek': 3,\n",
       "   'date': '2024-01-15',\n",
       "   'metric_value': 13.76,\n",
       "   'in_reporting_delay_period': False},\n",
       "  {'theme': 'infectious_disease',\n",
       "   'sub_theme': 'respiratory',\n",
       "   'topic': 'Influenza',\n",
       "   'geography_type': 'Nation',\n",
       "   'geography': 'England',\n",
       "   'geography_code': 'E92000001',\n",
       "   'metric': 'influenza_testing_positivityByWeek',\n",
       "   'metric_group': 'testing',\n",
       "   'stratum': 'default',\n",
       "   'sex': 'all',\n",
       "   'age': 'all',\n",
       "   'year': 2024,\n",
       "   'month': 1,\n",
       "   'epiweek': 4,\n",
       "   'date': '2024-01-22',\n",
       "   'metric_value': 17.65,\n",
       "   'in_reporting_delay_period': False},\n",
       "  {'theme': 'infectious_disease',\n",
       "   'sub_theme': 'respiratory',\n",
       "   'topic': 'Influenza',\n",
       "   'geography_type': 'Nation',\n",
       "   'geography': 'England',\n",
       "   'geography_code': 'E92000001',\n",
       "   'metric': 'influenza_testing_positivityByWeek',\n",
       "   'metric_group': 'testing',\n",
       "   'stratum': 'default',\n",
       "   'sex': 'all',\n",
       "   'age': 'all',\n",
       "   'year': 2024,\n",
       "   'month': 1,\n",
       "   'epiweek': 5,\n",
       "   'date': '2024-01-29',\n",
       "   'metric_value': 15.44,\n",
       "   'in_reporting_delay_period': False}]}"
      ]
     },
     "execution_count": 5,
     "metadata": {},
     "output_type": "execute_result"
    }
   ],
   "source": [
    "import requests\n",
    "\n",
    "# Influenza for 2024\n",
    "requests.get(\"https://api.ukhsa-dashboard.data.gov.uk/themes\"\n",
    "             \"/infectious_disease/sub_themes/respiratory/topics\"\n",
    "             \"/Influenza/geography_types/Nation/geographies/England/\"\n",
    "             \"metrics/influenza_testing_positivityByWeek\", \n",
    "             params={'year': 2024, 'age': 'all'}).json()"
   ]
  },
  {
   "cell_type": "markdown",
   "metadata": {},
   "source": [
    "Request data on the percentage of positive PCR tests for Rhinovirus over a 7-day period in 2024"
   ]
  },
  {
   "cell_type": "code",
   "execution_count": 6,
   "metadata": {},
   "outputs": [
    {
     "data": {
      "text/plain": [
       "{'count': 47,\n",
       " 'next': 'https://api.ukhsa-dashboard.data.gov.uk/themes/infectious_disease/sub_themes/respiratory/topics/Rhinovirus/geography_types/Nation/geographies/England/metrics/rhinovirus_testing_positivityByWeek?age=all&page=2&year=2024',\n",
       " 'previous': None,\n",
       " 'results': [{'theme': 'infectious_disease',\n",
       "   'sub_theme': 'respiratory',\n",
       "   'topic': 'Rhinovirus',\n",
       "   'geography_type': 'Nation',\n",
       "   'geography': 'England',\n",
       "   'geography_code': 'E92000001',\n",
       "   'metric': 'rhinovirus_testing_positivityByWeek',\n",
       "   'metric_group': 'testing',\n",
       "   'stratum': 'default',\n",
       "   'sex': 'all',\n",
       "   'age': 'all',\n",
       "   'year': 2024,\n",
       "   'month': 1,\n",
       "   'epiweek': 1,\n",
       "   'date': '2024-01-01',\n",
       "   'metric_value': 9.81,\n",
       "   'in_reporting_delay_period': False},\n",
       "  {'theme': 'infectious_disease',\n",
       "   'sub_theme': 'respiratory',\n",
       "   'topic': 'Rhinovirus',\n",
       "   'geography_type': 'Nation',\n",
       "   'geography': 'England',\n",
       "   'geography_code': 'E92000001',\n",
       "   'metric': 'rhinovirus_testing_positivityByWeek',\n",
       "   'metric_group': 'testing',\n",
       "   'stratum': 'default',\n",
       "   'sex': 'all',\n",
       "   'age': 'all',\n",
       "   'year': 2024,\n",
       "   'month': 1,\n",
       "   'epiweek': 2,\n",
       "   'date': '2024-01-08',\n",
       "   'metric_value': 6.78,\n",
       "   'in_reporting_delay_period': False},\n",
       "  {'theme': 'infectious_disease',\n",
       "   'sub_theme': 'respiratory',\n",
       "   'topic': 'Rhinovirus',\n",
       "   'geography_type': 'Nation',\n",
       "   'geography': 'England',\n",
       "   'geography_code': 'E92000001',\n",
       "   'metric': 'rhinovirus_testing_positivityByWeek',\n",
       "   'metric_group': 'testing',\n",
       "   'stratum': 'default',\n",
       "   'sex': 'all',\n",
       "   'age': 'all',\n",
       "   'year': 2024,\n",
       "   'month': 1,\n",
       "   'epiweek': 3,\n",
       "   'date': '2024-01-15',\n",
       "   'metric_value': 7.82,\n",
       "   'in_reporting_delay_period': False},\n",
       "  {'theme': 'infectious_disease',\n",
       "   'sub_theme': 'respiratory',\n",
       "   'topic': 'Rhinovirus',\n",
       "   'geography_type': 'Nation',\n",
       "   'geography': 'England',\n",
       "   'geography_code': 'E92000001',\n",
       "   'metric': 'rhinovirus_testing_positivityByWeek',\n",
       "   'metric_group': 'testing',\n",
       "   'stratum': 'default',\n",
       "   'sex': 'all',\n",
       "   'age': 'all',\n",
       "   'year': 2024,\n",
       "   'month': 1,\n",
       "   'epiweek': 4,\n",
       "   'date': '2024-01-22',\n",
       "   'metric_value': 8.44,\n",
       "   'in_reporting_delay_period': False},\n",
       "  {'theme': 'infectious_disease',\n",
       "   'sub_theme': 'respiratory',\n",
       "   'topic': 'Rhinovirus',\n",
       "   'geography_type': 'Nation',\n",
       "   'geography': 'England',\n",
       "   'geography_code': 'E92000001',\n",
       "   'metric': 'rhinovirus_testing_positivityByWeek',\n",
       "   'metric_group': 'testing',\n",
       "   'stratum': 'default',\n",
       "   'sex': 'all',\n",
       "   'age': 'all',\n",
       "   'year': 2024,\n",
       "   'month': 1,\n",
       "   'epiweek': 5,\n",
       "   'date': '2024-01-29',\n",
       "   'metric_value': 8.59,\n",
       "   'in_reporting_delay_period': False}]}"
      ]
     },
     "execution_count": 6,
     "metadata": {},
     "output_type": "execute_result"
    }
   ],
   "source": [
    "# Rhinovirus for 2024\n",
    "requests.get(\"https://api.ukhsa-dashboard.data.gov.uk/themes/\"\n",
    "             \"infectious_disease/sub_themes/respiratory/topics\"\n",
    "             \"/Rhinovirus/geography_types/Nation/geographies/England/\"\n",
    "             \"metrics/rhinovirus_testing_positivityByWeek\",\n",
    "             params={'year': 2024, 'age': 'all'}).json()\n"
   ]
  },
  {
   "cell_type": "markdown",
   "metadata": {},
   "source": [
    "Request data on the percentage of positive PCR tests for Covid-19 over a 7-day rolling period in 2024"
   ]
  },
  {
   "cell_type": "code",
   "execution_count": 7,
   "metadata": {},
   "outputs": [
    {
     "data": {
      "text/plain": [
       "{'count': 307,\n",
       " 'next': 'https://api.ukhsa-dashboard.data.gov.uk/themes/infectious_disease/sub_themes/respiratory/topics/COVID-19/geography_types/Nation/geographies/England/metrics/COVID-19_testing_positivity7DayRolling?age=all&page=2&year=2024',\n",
       " 'previous': None,\n",
       " 'results': [{'theme': 'infectious_disease',\n",
       "   'sub_theme': 'respiratory',\n",
       "   'topic': 'COVID-19',\n",
       "   'geography_type': 'Nation',\n",
       "   'geography': 'England',\n",
       "   'geography_code': 'E92000001',\n",
       "   'metric': 'COVID-19_testing_positivity7DayRolling',\n",
       "   'metric_group': 'testing',\n",
       "   'stratum': 'default',\n",
       "   'sex': 'all',\n",
       "   'age': 'all',\n",
       "   'year': 2024,\n",
       "   'month': 1,\n",
       "   'epiweek': 1,\n",
       "   'date': '2024-01-01',\n",
       "   'metric_value': 13.09,\n",
       "   'in_reporting_delay_period': False},\n",
       "  {'theme': 'infectious_disease',\n",
       "   'sub_theme': 'respiratory',\n",
       "   'topic': 'COVID-19',\n",
       "   'geography_type': 'Nation',\n",
       "   'geography': 'England',\n",
       "   'geography_code': 'E92000001',\n",
       "   'metric': 'COVID-19_testing_positivity7DayRolling',\n",
       "   'metric_group': 'testing',\n",
       "   'stratum': 'default',\n",
       "   'sex': 'all',\n",
       "   'age': 'all',\n",
       "   'year': 2024,\n",
       "   'month': 1,\n",
       "   'epiweek': 1,\n",
       "   'date': '2024-01-02',\n",
       "   'metric_value': 13.11,\n",
       "   'in_reporting_delay_period': False},\n",
       "  {'theme': 'infectious_disease',\n",
       "   'sub_theme': 'respiratory',\n",
       "   'topic': 'COVID-19',\n",
       "   'geography_type': 'Nation',\n",
       "   'geography': 'England',\n",
       "   'geography_code': 'E92000001',\n",
       "   'metric': 'COVID-19_testing_positivity7DayRolling',\n",
       "   'metric_group': 'testing',\n",
       "   'stratum': 'default',\n",
       "   'sex': 'all',\n",
       "   'age': 'all',\n",
       "   'year': 2024,\n",
       "   'month': 1,\n",
       "   'epiweek': 1,\n",
       "   'date': '2024-01-03',\n",
       "   'metric_value': 13.03,\n",
       "   'in_reporting_delay_period': False},\n",
       "  {'theme': 'infectious_disease',\n",
       "   'sub_theme': 'respiratory',\n",
       "   'topic': 'COVID-19',\n",
       "   'geography_type': 'Nation',\n",
       "   'geography': 'England',\n",
       "   'geography_code': 'E92000001',\n",
       "   'metric': 'COVID-19_testing_positivity7DayRolling',\n",
       "   'metric_group': 'testing',\n",
       "   'stratum': 'default',\n",
       "   'sex': 'all',\n",
       "   'age': 'all',\n",
       "   'year': 2024,\n",
       "   'month': 1,\n",
       "   'epiweek': 1,\n",
       "   'date': '2024-01-04',\n",
       "   'metric_value': 12.94,\n",
       "   'in_reporting_delay_period': False},\n",
       "  {'theme': 'infectious_disease',\n",
       "   'sub_theme': 'respiratory',\n",
       "   'topic': 'COVID-19',\n",
       "   'geography_type': 'Nation',\n",
       "   'geography': 'England',\n",
       "   'geography_code': 'E92000001',\n",
       "   'metric': 'COVID-19_testing_positivity7DayRolling',\n",
       "   'metric_group': 'testing',\n",
       "   'stratum': 'default',\n",
       "   'sex': 'all',\n",
       "   'age': 'all',\n",
       "   'year': 2024,\n",
       "   'month': 1,\n",
       "   'epiweek': 1,\n",
       "   'date': '2024-01-05',\n",
       "   'metric_value': 12.75,\n",
       "   'in_reporting_delay_period': False}]}"
      ]
     },
     "execution_count": 7,
     "metadata": {},
     "output_type": "execute_result"
    }
   ],
   "source": [
    "# Covid-19 for 2024\n",
    "requests.get(\"https://api.ukhsa-dashboard.data.gov.uk/themes/\"\n",
    "             \"infectious_disease/sub_themes/respiratory/topics\"\n",
    "             \"/COVID-19/geography_types/Nation/geographies/England/\"\n",
    "             \"metrics/COVID-19_testing_positivity7DayRolling\",\n",
    "             params={'year': 2024, 'age': 'all'}).json()\n"
   ]
  },
  {
   "cell_type": "markdown",
   "metadata": {},
   "source": [
    "### A simple API wrapper object"
   ]
  },
  {
   "cell_type": "code",
   "execution_count": 8,
   "metadata": {},
   "outputs": [],
   "source": [
    "import requests\n",
    "import time\n",
    "\n",
    "class APIwrapper:\n",
    "    # For all instances to share class variables\n",
    "    _access_point = \"https://api.ukhsa-dashboard.data.gov.uk\"\n",
    "    _last_access = 0.0 # last API access time\n",
    "    \n",
    "    def __init__(self, theme, sub_theme, topic, geography_type, geography, metric):\n",
    "        \"\"\" Initialise the APIwrapper object and construct the API endpoint using the structure parameters. \"\"\"\n",
    "        \n",
    "        # URL path with all of the required structure parameters\n",
    "        # The actual values will replace parameters when an object of the class is instantiated\n",
    "        url_path = (f\"/themes/{theme}/sub_themes/{sub_theme}/topics/{topic}/geography_types/\" +\n",
    "                    f\"{geography_type}/geographies/{geography}/metrics/{metric}\")\n",
    "        \n",
    "        # Starting API endpoint\n",
    "        self._start_url = APIwrapper._access_point+url_path\n",
    "        self._filters = None\n",
    "        self._page_size = -1\n",
    "        \n",
    "        # Contain the number of items\n",
    "        self.count = None\n",
    "\n",
    "    def get_page(self, filters={}, page_size=5):\n",
    "        \"\"\" Access the API and download the next page of data.\"\"\"\n",
    "        \n",
    "        # Check page size is within range, if not then display a value error\n",
    "        if page_size > 52:\n",
    "            raise ValueError(\"Max supported page size is 52\")\n",
    "        \n",
    "        # If page or filters have changed, restart from the first page\n",
    "        if filters != self._filters or page_size != self._page_size:\n",
    "            self._filters = filters\n",
    "            self._page_size = page_size\n",
    "            self._next_url = self._start_url\n",
    "        \n",
    "        # A condition for when one reaches the end of data\n",
    "        if self._next_url == None: \n",
    "            return [] # The last page has been already fetched\n",
    "        \n",
    "        # Set a limit on simple rate to avoid bans from UKHSA\n",
    "        curr_time = time.time() # Unix time: the total number of seconds that have elapsed since the Epoch.\n",
    "        deltat = curr_time - APIwrapper._last_access\n",
    "        if deltat < 0.33: # Set maximum requests per second to 3\n",
    "            time.sleep(0.33 - deltat) # Add delay by (0.33 - deltat)\n",
    "        APIwrapper._last_access = curr_time\n",
    "        \n",
    "        # Remove all the None values in filters and add page_size to build a parameter dictionary\n",
    "        parameters = {x: y for x, y in filters.items() if y != None}\n",
    "        parameters['page_size'] = page_size\n",
    "\n",
    "        # _next_url already has the page parameter\n",
    "        # API access. json method makes response a Python dictionary \n",
    "        response = requests.get(self._next_url, params=parameters).json()\n",
    "\n",
    "        # Update URL to fetch the next page\n",
    "        self._next_url=response['next']\n",
    "        self.count=response['count']\n",
    "        # Data is located in the nested results list\n",
    "        return response['results'] \n",
    "\n",
    "    def get_all_pages(self, filters={}, page_size=52):\n",
    "        \"\"\" Access the API and download all available data pages of data.\"\"\"\n",
    "        data=[] # All data is being stored here\n",
    "        while True:\n",
    "            # Job (including pacing) will be done by get_page\n",
    "            next_page=self.get_page(filters, page_size)\n",
    "            if next_page==[]:\n",
    "                break # Done\n",
    "            data.extend(next_page)\n",
    "        return data"
   ]
  },
  {
   "cell_type": "markdown",
   "metadata": {},
   "source": [
    "#### Define a `structure` dictionary containing main parameters"
   ]
  },
  {
   "cell_type": "code",
   "execution_count": 9,
   "metadata": {},
   "outputs": [],
   "source": [
    "# Influenza\n",
    "structure={\"theme\": \"infectious_disease\", \n",
    "           \"sub_theme\": \"respiratory\",\n",
    "           \"topic\": \"Influenza\",\n",
    "           \"geography_type\": \"Nation\", \n",
    "           \"geography\": \"England\"}"
   ]
  },
  {
   "cell_type": "code",
   "execution_count": 10,
   "metadata": {},
   "outputs": [],
   "source": [
    "# Rhinovirus\n",
    "structure2={\"theme\": \"infectious_disease\", \n",
    "           \"sub_theme\": \"respiratory\",\n",
    "           \"topic\": \"Rhinovirus\",\n",
    "           \"geography_type\": \"Nation\", \n",
    "           \"geography\": \"England\"}"
   ]
  },
  {
   "cell_type": "code",
   "execution_count": 11,
   "metadata": {},
   "outputs": [],
   "source": [
    "# Covid-19\n",
    "structure3={\"theme\": \"infectious_disease\", \n",
    "           \"sub_theme\": \"respiratory\",\n",
    "           \"topic\": \"COVID-19\",\n",
    "           \"geography_type\": \"Nation\", \n",
    "           \"geography\": \"England\"}"
   ]
  },
  {
   "cell_type": "markdown",
   "metadata": {},
   "source": [
    "Add the specific metric"
   ]
  },
  {
   "cell_type": "code",
   "execution_count": 12,
   "metadata": {},
   "outputs": [],
   "source": [
    "# the percentage of positive PCR tests for Influenza over a 7-day period in 2024\n",
    "structure[\"metric\"] = \"influenza_testing_positivityByWeek\""
   ]
  },
  {
   "cell_type": "code",
   "execution_count": 13,
   "metadata": {},
   "outputs": [],
   "source": [
    "# the percentage of positive PCR tests for Rhinovirus over a 7-day period in 2024\n",
    "structure2[\"metric\"] = \"rhinovirus_testing_positivityByWeek\""
   ]
  },
  {
   "cell_type": "code",
   "execution_count": 14,
   "metadata": {},
   "outputs": [],
   "source": [
    "# the percentage of positive PCR tests for COVID-19 over a 7-days rolling period in 2024\n",
    "structure3[\"metric\"] = \"COVID-19_testing_positivity7DayRolling\""
   ]
  },
  {
   "cell_type": "markdown",
   "metadata": {},
   "source": [
    "#### Create the `APIwrapper` object, call `get_page()` and retrieve the first page of data"
   ]
  },
  {
   "cell_type": "code",
   "execution_count": 15,
   "metadata": {},
   "outputs": [
    {
     "name": "stdout",
     "output_type": "stream",
     "text": [
      "3254\n",
      "[{'theme': 'infectious_disease', 'sub_theme': 'respiratory', 'topic': 'Influenza', 'geography_type': 'Nation', 'geography': 'England', 'geography_code': 'E92000001', 'metric': 'influenza_testing_positivityByWeek', 'metric_group': 'testing', 'stratum': 'default', 'sex': 'all', 'age': '45-64', 'year': 2017, 'month': 7, 'epiweek': 27, 'date': '2017-07-03', 'metric_value': 1.81, 'in_reporting_delay_period': False}, {'theme': 'infectious_disease', 'sub_theme': 'respiratory', 'topic': 'Influenza', 'geography_type': 'Nation', 'geography': 'England', 'geography_code': 'E92000001', 'metric': 'influenza_testing_positivityByWeek', 'metric_group': 'testing', 'stratum': 'default', 'sex': 'all', 'age': '80+', 'year': 2017, 'month': 7, 'epiweek': 27, 'date': '2017-07-03', 'metric_value': 3.17, 'in_reporting_delay_period': False}, {'theme': 'infectious_disease', 'sub_theme': 'respiratory', 'topic': 'Influenza', 'geography_type': 'Nation', 'geography': 'England', 'geography_code': 'E92000001', 'metric': 'influenza_testing_positivityByWeek', 'metric_group': 'testing', 'stratum': 'default', 'sex': 'all', 'age': '00-04', 'year': 2017, 'month': 7, 'epiweek': 27, 'date': '2017-07-03', 'metric_value': 0.35, 'in_reporting_delay_period': False}, {'theme': 'infectious_disease', 'sub_theme': 'respiratory', 'topic': 'Influenza', 'geography_type': 'Nation', 'geography': 'England', 'geography_code': 'E92000001', 'metric': 'influenza_testing_positivityByWeek', 'metric_group': 'testing', 'stratum': 'default', 'sex': 'all', 'age': '65-79', 'year': 2017, 'month': 7, 'epiweek': 27, 'date': '2017-07-03', 'metric_value': 1.76, 'in_reporting_delay_period': False}, {'theme': 'infectious_disease', 'sub_theme': 'respiratory', 'topic': 'Influenza', 'geography_type': 'Nation', 'geography': 'England', 'geography_code': 'E92000001', 'metric': 'influenza_testing_positivityByWeek', 'metric_group': 'testing', 'stratum': 'default', 'sex': 'all', 'age': '05-14', 'year': 2017, 'month': 7, 'epiweek': 27, 'date': '2017-07-03', 'metric_value': 0.0, 'in_reporting_delay_period': False}]\n"
     ]
    }
   ],
   "source": [
    "# Influenza\n",
    "iapi = APIwrapper(**structure)\n",
    "idata = iapi.get_page()\n",
    "print(iapi.count)\n",
    "print(idata)"
   ]
  },
  {
   "cell_type": "code",
   "execution_count": 16,
   "metadata": {},
   "outputs": [
    {
     "name": "stdout",
     "output_type": "stream",
     "text": [
      "2702\n",
      "[{'theme': 'infectious_disease', 'sub_theme': 'respiratory', 'topic': 'Rhinovirus', 'geography_type': 'Nation', 'geography': 'England', 'geography_code': 'E92000001', 'metric': 'rhinovirus_testing_positivityByWeek', 'metric_group': 'testing', 'stratum': 'default', 'sex': 'all', 'age': '80+', 'year': 2017, 'month': 7, 'epiweek': 27, 'date': '2017-07-03', 'metric_value': 18.18, 'in_reporting_delay_period': False}, {'theme': 'infectious_disease', 'sub_theme': 'respiratory', 'topic': 'Rhinovirus', 'geography_type': 'Nation', 'geography': 'England', 'geography_code': 'E92000001', 'metric': 'rhinovirus_testing_positivityByWeek', 'metric_group': 'testing', 'stratum': 'default', 'sex': 'all', 'age': '15-44', 'year': 2017, 'month': 7, 'epiweek': 27, 'date': '2017-07-03', 'metric_value': 14.29, 'in_reporting_delay_period': False}, {'theme': 'infectious_disease', 'sub_theme': 'respiratory', 'topic': 'Rhinovirus', 'geography_type': 'Nation', 'geography': 'England', 'geography_code': 'E92000001', 'metric': 'rhinovirus_testing_positivityByWeek', 'metric_group': 'testing', 'stratum': 'default', 'sex': 'all', 'age': 'all', 'year': 2017, 'month': 7, 'epiweek': 27, 'date': '2017-07-03', 'metric_value': 16.9, 'in_reporting_delay_period': False}, {'theme': 'infectious_disease', 'sub_theme': 'respiratory', 'topic': 'Rhinovirus', 'geography_type': 'Nation', 'geography': 'England', 'geography_code': 'E92000001', 'metric': 'rhinovirus_testing_positivityByWeek', 'metric_group': 'testing', 'stratum': 'default', 'sex': 'all', 'age': '05-14', 'year': 2017, 'month': 7, 'epiweek': 27, 'date': '2017-07-03', 'metric_value': 17.14, 'in_reporting_delay_period': False}, {'theme': 'infectious_disease', 'sub_theme': 'respiratory', 'topic': 'Rhinovirus', 'geography_type': 'Nation', 'geography': 'England', 'geography_code': 'E92000001', 'metric': 'rhinovirus_testing_positivityByWeek', 'metric_group': 'testing', 'stratum': 'default', 'sex': 'all', 'age': '00-04', 'year': 2017, 'month': 7, 'epiweek': 27, 'date': '2017-07-03', 'metric_value': 28.7, 'in_reporting_delay_period': False}]\n"
     ]
    }
   ],
   "source": [
    "# Rhinovirus\n",
    "rapi = APIwrapper(**structure2)\n",
    "rdata = rapi.get_page()\n",
    "print(rapi.count)\n",
    "print(rdata)"
   ]
  },
  {
   "cell_type": "code",
   "execution_count": 17,
   "metadata": {},
   "outputs": [
    {
     "name": "stdout",
     "output_type": "stream",
     "text": [
      "1730\n",
      "[{'theme': 'infectious_disease', 'sub_theme': 'respiratory', 'topic': 'COVID-19', 'geography_type': 'Nation', 'geography': 'England', 'geography_code': 'E92000001', 'metric': 'COVID-19_testing_positivity7DayRolling', 'metric_group': 'testing', 'stratum': 'default', 'sex': 'all', 'age': 'all', 'year': 2020, 'month': 2, 'epiweek': 6, 'date': '2020-02-08', 'metric_value': 0.93, 'in_reporting_delay_period': False}, {'theme': 'infectious_disease', 'sub_theme': 'respiratory', 'topic': 'COVID-19', 'geography_type': 'Nation', 'geography': 'England', 'geography_code': 'E92000001', 'metric': 'COVID-19_testing_positivity7DayRolling', 'metric_group': 'testing', 'stratum': 'default', 'sex': 'all', 'age': 'all', 'year': 2020, 'month': 2, 'epiweek': 6, 'date': '2020-02-09', 'metric_value': 0.88, 'in_reporting_delay_period': False}, {'theme': 'infectious_disease', 'sub_theme': 'respiratory', 'topic': 'COVID-19', 'geography_type': 'Nation', 'geography': 'England', 'geography_code': 'E92000001', 'metric': 'COVID-19_testing_positivity7DayRolling', 'metric_group': 'testing', 'stratum': 'default', 'sex': 'all', 'age': 'all', 'year': 2020, 'month': 2, 'epiweek': 7, 'date': '2020-02-10', 'metric_value': 0.68, 'in_reporting_delay_period': False}, {'theme': 'infectious_disease', 'sub_theme': 'respiratory', 'topic': 'COVID-19', 'geography_type': 'Nation', 'geography': 'England', 'geography_code': 'E92000001', 'metric': 'COVID-19_testing_positivity7DayRolling', 'metric_group': 'testing', 'stratum': 'default', 'sex': 'all', 'age': 'all', 'year': 2020, 'month': 2, 'epiweek': 7, 'date': '2020-02-11', 'metric_value': 0.64, 'in_reporting_delay_period': False}, {'theme': 'infectious_disease', 'sub_theme': 'respiratory', 'topic': 'COVID-19', 'geography_type': 'Nation', 'geography': 'England', 'geography_code': 'E92000001', 'metric': 'COVID-19_testing_positivity7DayRolling', 'metric_group': 'testing', 'stratum': 'default', 'sex': 'all', 'age': 'all', 'year': 2020, 'month': 2, 'epiweek': 7, 'date': '2020-02-12', 'metric_value': 0.48, 'in_reporting_delay_period': False}]\n"
     ]
    }
   ],
   "source": [
    "# Covid-19\n",
    "capi = APIwrapper(**structure3)\n",
    "cdata = capi.get_page()\n",
    "print(capi.count)\n",
    "print(cdata)"
   ]
  },
  {
   "cell_type": "markdown",
   "metadata": {},
   "source": [
    "#### Define a dictionary of query parameters to filter the results"
   ]
  },
  {
   "cell_type": "code",
   "execution_count": 18,
   "metadata": {},
   "outputs": [],
   "source": [
    "# Filter the data for the year 2024\n",
    "\n",
    "filters = {\"stratum\": None, # Smallest subgroup a metric can be broken down into\n",
    "           \"age\": 'all', # Smallest subgroup for age\n",
    "           \"sex\": None, # Patients' gender\n",
    "           \"year\": 2024, # Metrics value's year (for yearly metrics)\n",
    "           \"month\": None, # Metrics value's month (for monthly metrics)\n",
    "           \"epiweek\": None, # Metrics value's week (for weekly metrics)\n",
    "           \"date\": None, # Metrics value's record date in YYYY-MM-DD format\n",
    "           \"in_reporting_delay_period\": None # Boolean value indicating whether the data point is subject to retrospective updates  \n",
    "           }"
   ]
  },
  {
   "cell_type": "markdown",
   "metadata": {},
   "source": [
    "#### Pass this to `get_page`"
   ]
  },
  {
   "cell_type": "code",
   "execution_count": 19,
   "metadata": {},
   "outputs": [
    {
     "name": "stdout",
     "output_type": "stream",
     "text": [
      "47\n",
      "[{'theme': 'infectious_disease', 'sub_theme': 'respiratory', 'topic': 'Influenza', 'geography_type': 'Nation', 'geography': 'England', 'geography_code': 'E92000001', 'metric': 'influenza_testing_positivityByWeek', 'metric_group': 'testing', 'stratum': 'default', 'sex': 'all', 'age': 'all', 'year': 2024, 'month': 1, 'epiweek': 1, 'date': '2024-01-01', 'metric_value': 9.7, 'in_reporting_delay_period': False}, {'theme': 'infectious_disease', 'sub_theme': 'respiratory', 'topic': 'Influenza', 'geography_type': 'Nation', 'geography': 'England', 'geography_code': 'E92000001', 'metric': 'influenza_testing_positivityByWeek', 'metric_group': 'testing', 'stratum': 'default', 'sex': 'all', 'age': 'all', 'year': 2024, 'month': 1, 'epiweek': 2, 'date': '2024-01-08', 'metric_value': 9.98, 'in_reporting_delay_period': False}, {'theme': 'infectious_disease', 'sub_theme': 'respiratory', 'topic': 'Influenza', 'geography_type': 'Nation', 'geography': 'England', 'geography_code': 'E92000001', 'metric': 'influenza_testing_positivityByWeek', 'metric_group': 'testing', 'stratum': 'default', 'sex': 'all', 'age': 'all', 'year': 2024, 'month': 1, 'epiweek': 3, 'date': '2024-01-15', 'metric_value': 13.76, 'in_reporting_delay_period': False}]\n"
     ]
    }
   ],
   "source": [
    "# Influenza\n",
    "idata_2024 = iapi.get_page(filters, page_size = 3)\n",
    "print(iapi.count)\n",
    "print(idata_2024)"
   ]
  },
  {
   "cell_type": "code",
   "execution_count": 20,
   "metadata": {},
   "outputs": [
    {
     "name": "stdout",
     "output_type": "stream",
     "text": [
      "47\n",
      "[{'theme': 'infectious_disease', 'sub_theme': 'respiratory', 'topic': 'Rhinovirus', 'geography_type': 'Nation', 'geography': 'England', 'geography_code': 'E92000001', 'metric': 'rhinovirus_testing_positivityByWeek', 'metric_group': 'testing', 'stratum': 'default', 'sex': 'all', 'age': 'all', 'year': 2024, 'month': 1, 'epiweek': 1, 'date': '2024-01-01', 'metric_value': 9.81, 'in_reporting_delay_period': False}, {'theme': 'infectious_disease', 'sub_theme': 'respiratory', 'topic': 'Rhinovirus', 'geography_type': 'Nation', 'geography': 'England', 'geography_code': 'E92000001', 'metric': 'rhinovirus_testing_positivityByWeek', 'metric_group': 'testing', 'stratum': 'default', 'sex': 'all', 'age': 'all', 'year': 2024, 'month': 1, 'epiweek': 2, 'date': '2024-01-08', 'metric_value': 6.78, 'in_reporting_delay_period': False}, {'theme': 'infectious_disease', 'sub_theme': 'respiratory', 'topic': 'Rhinovirus', 'geography_type': 'Nation', 'geography': 'England', 'geography_code': 'E92000001', 'metric': 'rhinovirus_testing_positivityByWeek', 'metric_group': 'testing', 'stratum': 'default', 'sex': 'all', 'age': 'all', 'year': 2024, 'month': 1, 'epiweek': 3, 'date': '2024-01-15', 'metric_value': 7.82, 'in_reporting_delay_period': False}]\n"
     ]
    }
   ],
   "source": [
    "# Rhinovirus\n",
    "rdata_2024 = rapi.get_page(filters, page_size = 3)\n",
    "print(rapi.count)\n",
    "print(rdata_2024)"
   ]
  },
  {
   "cell_type": "code",
   "execution_count": 21,
   "metadata": {},
   "outputs": [
    {
     "name": "stdout",
     "output_type": "stream",
     "text": [
      "307\n",
      "[{'theme': 'infectious_disease', 'sub_theme': 'respiratory', 'topic': 'COVID-19', 'geography_type': 'Nation', 'geography': 'England', 'geography_code': 'E92000001', 'metric': 'COVID-19_testing_positivity7DayRolling', 'metric_group': 'testing', 'stratum': 'default', 'sex': 'all', 'age': 'all', 'year': 2024, 'month': 1, 'epiweek': 1, 'date': '2024-01-01', 'metric_value': 13.09, 'in_reporting_delay_period': False}, {'theme': 'infectious_disease', 'sub_theme': 'respiratory', 'topic': 'COVID-19', 'geography_type': 'Nation', 'geography': 'England', 'geography_code': 'E92000001', 'metric': 'COVID-19_testing_positivity7DayRolling', 'metric_group': 'testing', 'stratum': 'default', 'sex': 'all', 'age': 'all', 'year': 2024, 'month': 1, 'epiweek': 1, 'date': '2024-01-02', 'metric_value': 13.11, 'in_reporting_delay_period': False}, {'theme': 'infectious_disease', 'sub_theme': 'respiratory', 'topic': 'COVID-19', 'geography_type': 'Nation', 'geography': 'England', 'geography_code': 'E92000001', 'metric': 'COVID-19_testing_positivity7DayRolling', 'metric_group': 'testing', 'stratum': 'default', 'sex': 'all', 'age': 'all', 'year': 2024, 'month': 1, 'epiweek': 1, 'date': '2024-01-03', 'metric_value': 13.03, 'in_reporting_delay_period': False}]\n"
     ]
    }
   ],
   "source": [
    "# Covid-19\n",
    "cdata_2024 = capi.get_page(filters, page_size = 3)\n",
    "print(capi.count)\n",
    "print(cdata_2024)"
   ]
  },
  {
   "cell_type": "markdown",
   "metadata": {},
   "source": [
    "### Downloading all data for the percentage of positive PCR tests in a 7 day period for Influenza and Rhinovirus (2024) & the percentage of positive PCR tests in a 7 day rolling period for Covid-19 (2024)"
   ]
  },
  {
   "cell_type": "code",
   "execution_count": 22,
   "metadata": {},
   "outputs": [],
   "source": [
    "influenza = iapi.get_all_pages(filters)\n",
    "rhinovirus = rapi.get_all_pages(filters)\n",
    "covid19 = capi.get_all_pages(filters)"
   ]
  },
  {
   "cell_type": "markdown",
   "metadata": {},
   "source": [
    "### Saving the data in JSON format"
   ]
  },
  {
   "cell_type": "markdown",
   "metadata": {},
   "source": [
    "Saving the result of API queries to have data for other notebooks and dashboard"
   ]
  },
  {
   "cell_type": "code",
   "execution_count": 23,
   "metadata": {},
   "outputs": [],
   "source": [
    "import json"
   ]
  },
  {
   "cell_type": "code",
   "execution_count": 24,
   "metadata": {},
   "outputs": [],
   "source": [
    "# Save data for Influenza\n",
    "with open(\"influenza.json\", \"wt\") as OUTF:\n",
    "    json.dump(influenza, OUTF)"
   ]
  },
  {
   "cell_type": "code",
   "execution_count": 25,
   "metadata": {},
   "outputs": [],
   "source": [
    "# Save data for Rhinovirus\n",
    "with open(\"rhinovirus.json\", \"wt\") as OUTF:\n",
    "    json.dump(rhinovirus, OUTF)"
   ]
  },
  {
   "cell_type": "code",
   "execution_count": 26,
   "metadata": {},
   "outputs": [],
   "source": [
    "# Save data for Covid-19\n",
    "with open(\"covid19.json\", \"wt\") as OUTF:\n",
    "    json.dump(covid19, OUTF)"
   ]
  },
  {
   "cell_type": "markdown",
   "metadata": {},
   "source": [
    "***"
   ]
  },
  {
   "cell_type": "markdown",
   "metadata": {},
   "source": [
    "## Visualising the Data"
   ]
  },
  {
   "cell_type": "markdown",
   "metadata": {},
   "source": [
    "Import `pandas` and `matplotlib` libaries for data processing and data visualisation"
   ]
  },
  {
   "cell_type": "code",
   "execution_count": 27,
   "metadata": {},
   "outputs": [],
   "source": [
    "import pandas as pd\n",
    "import matplotlib.pyplot as plt\n",
    "import matplotlib.dates as mdates"
   ]
  },
  {
   "cell_type": "code",
   "execution_count": 28,
   "metadata": {},
   "outputs": [],
   "source": [
    "# Enable the embedded matplotlib output using iPython\n",
    "%matplotlib inline\n",
    "\n",
    "# Enlarge figures\n",
    "plt.rcParams['figure.dpi'] = 200"
   ]
  },
  {
   "cell_type": "markdown",
   "metadata": {},
   "source": [
    "### Time Series data"
   ]
  },
  {
   "cell_type": "markdown",
   "metadata": {},
   "source": [
    "Load the data from saved JSON file"
   ]
  },
  {
   "cell_type": "code",
   "execution_count": 29,
   "metadata": {},
   "outputs": [],
   "source": [
    "# Influenza\n",
    "with open(\"influenza.json\", \"rt\") as INFILE:\n",
    "    influenza = json.load(INFILE)\n",
    "\n",
    "# Rhinovirus\n",
    "with open(\"rhinovirus.json\", \"rt\") as INFILE:\n",
    "    rhinovirus = json.load(INFILE)\n",
    "\n",
    "# Covid-19\n",
    "with open(\"covid19.json\", \"rt\") as INFILE:\n",
    "    covid19 = json.load(INFILE)"
   ]
  },
  {
   "cell_type": "markdown",
   "metadata": {},
   "source": [
    "### Wrangling the data"
   ]
  },
  {
   "cell_type": "markdown",
   "metadata": {},
   "source": [
    "Need to format data to extract values for the x axis (date) for the plot, which will become the index of a DataFrame containing the data in columns"
   ]
  },
  {
   "cell_type": "code",
   "execution_count": 30,
   "metadata": {},
   "outputs": [
    {
     "data": {
      "text/plain": [
       "[{'theme': 'infectious_disease',\n",
       "  'sub_theme': 'respiratory',\n",
       "  'topic': 'Influenza',\n",
       "  'geography_type': 'Nation',\n",
       "  'geography': 'England',\n",
       "  'geography_code': 'E92000001',\n",
       "  'metric': 'influenza_testing_positivityByWeek',\n",
       "  'metric_group': 'testing',\n",
       "  'stratum': 'default',\n",
       "  'sex': 'all',\n",
       "  'age': 'all',\n",
       "  'year': 2024,\n",
       "  'month': 1,\n",
       "  'epiweek': 1,\n",
       "  'date': '2024-01-01',\n",
       "  'metric_value': 9.7,\n",
       "  'in_reporting_delay_period': False},\n",
       " {'theme': 'infectious_disease',\n",
       "  'sub_theme': 'respiratory',\n",
       "  'topic': 'Influenza',\n",
       "  'geography_type': 'Nation',\n",
       "  'geography': 'England',\n",
       "  'geography_code': 'E92000001',\n",
       "  'metric': 'influenza_testing_positivityByWeek',\n",
       "  'metric_group': 'testing',\n",
       "  'stratum': 'default',\n",
       "  'sex': 'all',\n",
       "  'age': 'all',\n",
       "  'year': 2024,\n",
       "  'month': 1,\n",
       "  'epiweek': 2,\n",
       "  'date': '2024-01-08',\n",
       "  'metric_value': 9.98,\n",
       "  'in_reporting_delay_period': False},\n",
       " {'theme': 'infectious_disease',\n",
       "  'sub_theme': 'respiratory',\n",
       "  'topic': 'Influenza',\n",
       "  'geography_type': 'Nation',\n",
       "  'geography': 'England',\n",
       "  'geography_code': 'E92000001',\n",
       "  'metric': 'influenza_testing_positivityByWeek',\n",
       "  'metric_group': 'testing',\n",
       "  'stratum': 'default',\n",
       "  'sex': 'all',\n",
       "  'age': 'all',\n",
       "  'year': 2024,\n",
       "  'month': 1,\n",
       "  'epiweek': 3,\n",
       "  'date': '2024-01-15',\n",
       "  'metric_value': 13.76,\n",
       "  'in_reporting_delay_period': False},\n",
       " {'theme': 'infectious_disease',\n",
       "  'sub_theme': 'respiratory',\n",
       "  'topic': 'Influenza',\n",
       "  'geography_type': 'Nation',\n",
       "  'geography': 'England',\n",
       "  'geography_code': 'E92000001',\n",
       "  'metric': 'influenza_testing_positivityByWeek',\n",
       "  'metric_group': 'testing',\n",
       "  'stratum': 'default',\n",
       "  'sex': 'all',\n",
       "  'age': 'all',\n",
       "  'year': 2024,\n",
       "  'month': 1,\n",
       "  'epiweek': 4,\n",
       "  'date': '2024-01-22',\n",
       "  'metric_value': 17.65,\n",
       "  'in_reporting_delay_period': False},\n",
       " {'theme': 'infectious_disease',\n",
       "  'sub_theme': 'respiratory',\n",
       "  'topic': 'Influenza',\n",
       "  'geography_type': 'Nation',\n",
       "  'geography': 'England',\n",
       "  'geography_code': 'E92000001',\n",
       "  'metric': 'influenza_testing_positivityByWeek',\n",
       "  'metric_group': 'testing',\n",
       "  'stratum': 'default',\n",
       "  'sex': 'all',\n",
       "  'age': 'all',\n",
       "  'year': 2024,\n",
       "  'month': 1,\n",
       "  'epiweek': 5,\n",
       "  'date': '2024-01-29',\n",
       "  'metric_value': 15.44,\n",
       "  'in_reporting_delay_period': False}]"
      ]
     },
     "execution_count": 30,
     "metadata": {},
     "output_type": "execute_result"
    }
   ],
   "source": [
    "influenza[:5]"
   ]
  },
  {
   "cell_type": "code",
   "execution_count": 31,
   "metadata": {},
   "outputs": [
    {
     "data": {
      "text/plain": [
       "[{'theme': 'infectious_disease',\n",
       "  'sub_theme': 'respiratory',\n",
       "  'topic': 'Rhinovirus',\n",
       "  'geography_type': 'Nation',\n",
       "  'geography': 'England',\n",
       "  'geography_code': 'E92000001',\n",
       "  'metric': 'rhinovirus_testing_positivityByWeek',\n",
       "  'metric_group': 'testing',\n",
       "  'stratum': 'default',\n",
       "  'sex': 'all',\n",
       "  'age': 'all',\n",
       "  'year': 2024,\n",
       "  'month': 1,\n",
       "  'epiweek': 1,\n",
       "  'date': '2024-01-01',\n",
       "  'metric_value': 9.81,\n",
       "  'in_reporting_delay_period': False},\n",
       " {'theme': 'infectious_disease',\n",
       "  'sub_theme': 'respiratory',\n",
       "  'topic': 'Rhinovirus',\n",
       "  'geography_type': 'Nation',\n",
       "  'geography': 'England',\n",
       "  'geography_code': 'E92000001',\n",
       "  'metric': 'rhinovirus_testing_positivityByWeek',\n",
       "  'metric_group': 'testing',\n",
       "  'stratum': 'default',\n",
       "  'sex': 'all',\n",
       "  'age': 'all',\n",
       "  'year': 2024,\n",
       "  'month': 1,\n",
       "  'epiweek': 2,\n",
       "  'date': '2024-01-08',\n",
       "  'metric_value': 6.78,\n",
       "  'in_reporting_delay_period': False},\n",
       " {'theme': 'infectious_disease',\n",
       "  'sub_theme': 'respiratory',\n",
       "  'topic': 'Rhinovirus',\n",
       "  'geography_type': 'Nation',\n",
       "  'geography': 'England',\n",
       "  'geography_code': 'E92000001',\n",
       "  'metric': 'rhinovirus_testing_positivityByWeek',\n",
       "  'metric_group': 'testing',\n",
       "  'stratum': 'default',\n",
       "  'sex': 'all',\n",
       "  'age': 'all',\n",
       "  'year': 2024,\n",
       "  'month': 1,\n",
       "  'epiweek': 3,\n",
       "  'date': '2024-01-15',\n",
       "  'metric_value': 7.82,\n",
       "  'in_reporting_delay_period': False},\n",
       " {'theme': 'infectious_disease',\n",
       "  'sub_theme': 'respiratory',\n",
       "  'topic': 'Rhinovirus',\n",
       "  'geography_type': 'Nation',\n",
       "  'geography': 'England',\n",
       "  'geography_code': 'E92000001',\n",
       "  'metric': 'rhinovirus_testing_positivityByWeek',\n",
       "  'metric_group': 'testing',\n",
       "  'stratum': 'default',\n",
       "  'sex': 'all',\n",
       "  'age': 'all',\n",
       "  'year': 2024,\n",
       "  'month': 1,\n",
       "  'epiweek': 4,\n",
       "  'date': '2024-01-22',\n",
       "  'metric_value': 8.44,\n",
       "  'in_reporting_delay_period': False},\n",
       " {'theme': 'infectious_disease',\n",
       "  'sub_theme': 'respiratory',\n",
       "  'topic': 'Rhinovirus',\n",
       "  'geography_type': 'Nation',\n",
       "  'geography': 'England',\n",
       "  'geography_code': 'E92000001',\n",
       "  'metric': 'rhinovirus_testing_positivityByWeek',\n",
       "  'metric_group': 'testing',\n",
       "  'stratum': 'default',\n",
       "  'sex': 'all',\n",
       "  'age': 'all',\n",
       "  'year': 2024,\n",
       "  'month': 1,\n",
       "  'epiweek': 5,\n",
       "  'date': '2024-01-29',\n",
       "  'metric_value': 8.59,\n",
       "  'in_reporting_delay_period': False}]"
      ]
     },
     "execution_count": 31,
     "metadata": {},
     "output_type": "execute_result"
    }
   ],
   "source": [
    "rhinovirus[:5]"
   ]
  },
  {
   "cell_type": "code",
   "execution_count": 32,
   "metadata": {},
   "outputs": [
    {
     "data": {
      "text/plain": [
       "[{'theme': 'infectious_disease',\n",
       "  'sub_theme': 'respiratory',\n",
       "  'topic': 'COVID-19',\n",
       "  'geography_type': 'Nation',\n",
       "  'geography': 'England',\n",
       "  'geography_code': 'E92000001',\n",
       "  'metric': 'COVID-19_testing_positivity7DayRolling',\n",
       "  'metric_group': 'testing',\n",
       "  'stratum': 'default',\n",
       "  'sex': 'all',\n",
       "  'age': 'all',\n",
       "  'year': 2024,\n",
       "  'month': 1,\n",
       "  'epiweek': 1,\n",
       "  'date': '2024-01-01',\n",
       "  'metric_value': 13.09,\n",
       "  'in_reporting_delay_period': False},\n",
       " {'theme': 'infectious_disease',\n",
       "  'sub_theme': 'respiratory',\n",
       "  'topic': 'COVID-19',\n",
       "  'geography_type': 'Nation',\n",
       "  'geography': 'England',\n",
       "  'geography_code': 'E92000001',\n",
       "  'metric': 'COVID-19_testing_positivity7DayRolling',\n",
       "  'metric_group': 'testing',\n",
       "  'stratum': 'default',\n",
       "  'sex': 'all',\n",
       "  'age': 'all',\n",
       "  'year': 2024,\n",
       "  'month': 1,\n",
       "  'epiweek': 1,\n",
       "  'date': '2024-01-02',\n",
       "  'metric_value': 13.11,\n",
       "  'in_reporting_delay_period': False},\n",
       " {'theme': 'infectious_disease',\n",
       "  'sub_theme': 'respiratory',\n",
       "  'topic': 'COVID-19',\n",
       "  'geography_type': 'Nation',\n",
       "  'geography': 'England',\n",
       "  'geography_code': 'E92000001',\n",
       "  'metric': 'COVID-19_testing_positivity7DayRolling',\n",
       "  'metric_group': 'testing',\n",
       "  'stratum': 'default',\n",
       "  'sex': 'all',\n",
       "  'age': 'all',\n",
       "  'year': 2024,\n",
       "  'month': 1,\n",
       "  'epiweek': 1,\n",
       "  'date': '2024-01-03',\n",
       "  'metric_value': 13.03,\n",
       "  'in_reporting_delay_period': False},\n",
       " {'theme': 'infectious_disease',\n",
       "  'sub_theme': 'respiratory',\n",
       "  'topic': 'COVID-19',\n",
       "  'geography_type': 'Nation',\n",
       "  'geography': 'England',\n",
       "  'geography_code': 'E92000001',\n",
       "  'metric': 'COVID-19_testing_positivity7DayRolling',\n",
       "  'metric_group': 'testing',\n",
       "  'stratum': 'default',\n",
       "  'sex': 'all',\n",
       "  'age': 'all',\n",
       "  'year': 2024,\n",
       "  'month': 1,\n",
       "  'epiweek': 1,\n",
       "  'date': '2024-01-04',\n",
       "  'metric_value': 12.94,\n",
       "  'in_reporting_delay_period': False},\n",
       " {'theme': 'infectious_disease',\n",
       "  'sub_theme': 'respiratory',\n",
       "  'topic': 'COVID-19',\n",
       "  'geography_type': 'Nation',\n",
       "  'geography': 'England',\n",
       "  'geography_code': 'E92000001',\n",
       "  'metric': 'COVID-19_testing_positivity7DayRolling',\n",
       "  'metric_group': 'testing',\n",
       "  'stratum': 'default',\n",
       "  'sex': 'all',\n",
       "  'age': 'all',\n",
       "  'year': 2024,\n",
       "  'month': 1,\n",
       "  'epiweek': 1,\n",
       "  'date': '2024-01-05',\n",
       "  'metric_value': 12.75,\n",
       "  'in_reporting_delay_period': False}]"
      ]
     },
     "execution_count": 32,
     "metadata": {},
     "output_type": "execute_result"
    }
   ],
   "source": [
    "covid19[:5]"
   ]
  },
  {
   "cell_type": "code",
   "execution_count": 33,
   "metadata": {},
   "outputs": [],
   "source": [
    "from datetime import datetime, timedelta\n",
    "\n",
    "# Extract certain covid-19 json file data and manipulate to match the format with Influenza and Rhinovirus\n",
    "\n",
    "# Convert existing JSON data to DataFrame for manipulation\n",
    "df_covid19 = pd.DataFrame(covid19)\n",
    "\n",
    "# Process the data\n",
    "weekly_data = (\n",
    "    df_covid19.groupby(['epiweek', 'metric'])\n",
    "    .agg({'metric_value': 'mean'}).reset_index()\n",
    ")\n",
    "\n",
    "# Round up the mean value to two decimal places\n",
    "weekly_data['metric_value'] = weekly_data['metric_value'].round(2)\n",
    "\n",
    "# Date data processing\n",
    "start_date = datetime(2024, 1, 1)\n",
    "weekly_data['date'] = weekly_data['epiweek'].apply(\n",
    "    lambda ew: (start_date + timedelta(weeks = ew - 1)).strftime('%Y-%m-%d')\n",
    ")\n",
    "\n",
    "# Convert back to JSON format\n",
    "updated_data = weekly_data.to_dict(orient='records')\n",
    "\n",
    "# Overwrite the original file\n",
    "with open('covid19_2.json', 'w') as f:\n",
    "    json.dump(updated_data, f, indent=4)\n"
   ]
  },
  {
   "cell_type": "markdown",
   "metadata": {},
   "source": [
    "Need `date` and `metric_value` keys for plotting. Thus, will retrieve these values and bring them together into a dictionary, which will have the dates as keys and metrics as values"
   ]
  },
  {
   "cell_type": "code",
   "execution_count": 34,
   "metadata": {},
   "outputs": [],
   "source": [
    "# Load data for Covid-19 from covid19_2.json\n",
    "with open(\"covid19_2.json\", \"rt\") as INFILE:\n",
    "    covid19 = json.load(INFILE)"
   ]
  },
  {
   "cell_type": "code",
   "execution_count": 35,
   "metadata": {},
   "outputs": [],
   "source": [
    "data={}\n",
    "for dataset in [influenza, rhinovirus, covid19]:\n",
    "    for entry in dataset:\n",
    "        date=entry['date']\n",
    "        metric=entry['metric']\n",
    "        value=entry['metric_value']\n",
    "        if date not in data:\n",
    "            data[date]={}\n",
    "        data[date][metric]=value"
   ]
  },
  {
   "cell_type": "code",
   "execution_count": 36,
   "metadata": {},
   "outputs": [
    {
     "data": {
      "text/plain": [
       "{'2024-01-01': {'influenza_testing_positivityByWeek': 9.7,\n",
       "  'rhinovirus_testing_positivityByWeek': 9.81,\n",
       "  'COVID-19_testing_positivity7DayRolling': 12.83},\n",
       " '2024-01-08': {'influenza_testing_positivityByWeek': 9.98,\n",
       "  'rhinovirus_testing_positivityByWeek': 6.78,\n",
       "  'COVID-19_testing_positivity7DayRolling': 11.67},\n",
       " '2024-01-15': {'influenza_testing_positivityByWeek': 13.76,\n",
       "  'rhinovirus_testing_positivityByWeek': 7.82,\n",
       "  'COVID-19_testing_positivity7DayRolling': 10.84},\n",
       " '2024-01-22': {'influenza_testing_positivityByWeek': 17.65,\n",
       "  'rhinovirus_testing_positivityByWeek': 8.44,\n",
       "  'COVID-19_testing_positivity7DayRolling': 10.73},\n",
       " '2024-01-29': {'influenza_testing_positivityByWeek': 15.44,\n",
       "  'rhinovirus_testing_positivityByWeek': 8.59,\n",
       "  'COVID-19_testing_positivity7DayRolling': 9.39},\n",
       " '2024-02-05': {'influenza_testing_positivityByWeek': 12.88,\n",
       "  'rhinovirus_testing_positivityByWeek': 8.67,\n",
       "  'COVID-19_testing_positivity7DayRolling': 8.15},\n",
       " '2024-02-12': {'influenza_testing_positivityByWeek': 10.94,\n",
       "  'rhinovirus_testing_positivityByWeek': 8.33,\n",
       "  'COVID-19_testing_positivity7DayRolling': 6.62},\n",
       " '2024-02-19': {'influenza_testing_positivityByWeek': 8.29,\n",
       "  'rhinovirus_testing_positivityByWeek': 8.4,\n",
       "  'COVID-19_testing_positivity7DayRolling': 5.69},\n",
       " '2024-02-26': {'influenza_testing_positivityByWeek': 6.39,\n",
       "  'rhinovirus_testing_positivityByWeek': 9.13,\n",
       "  'COVID-19_testing_positivity7DayRolling': 4.69},\n",
       " '2024-03-04': {'influenza_testing_positivityByWeek': 5.82,\n",
       "  'rhinovirus_testing_positivityByWeek': 8.96,\n",
       "  'COVID-19_testing_positivity7DayRolling': 4.57},\n",
       " '2024-03-11': {'influenza_testing_positivityByWeek': 6.51,\n",
       "  'rhinovirus_testing_positivityByWeek': 10.56,\n",
       "  'COVID-19_testing_positivity7DayRolling': 4.79},\n",
       " '2024-03-18': {'influenza_testing_positivityByWeek': 5.02,\n",
       "  'rhinovirus_testing_positivityByWeek': 11.44,\n",
       "  'COVID-19_testing_positivity7DayRolling': 4.49},\n",
       " '2024-03-25': {'influenza_testing_positivityByWeek': 3.91,\n",
       "  'rhinovirus_testing_positivityByWeek': 12.4,\n",
       "  'COVID-19_testing_positivity7DayRolling': 4.42},\n",
       " '2024-04-01': {'influenza_testing_positivityByWeek': 3.82,\n",
       "  'rhinovirus_testing_positivityByWeek': 11.42,\n",
       "  'COVID-19_testing_positivity7DayRolling': 4.88},\n",
       " '2024-04-08': {'influenza_testing_positivityByWeek': 2.84,\n",
       "  'rhinovirus_testing_positivityByWeek': 9.52,\n",
       "  'COVID-19_testing_positivity7DayRolling': 5.05},\n",
       " '2024-04-15': {'influenza_testing_positivityByWeek': 2.46,\n",
       "  'rhinovirus_testing_positivityByWeek': 10.49,\n",
       "  'COVID-19_testing_positivity7DayRolling': 5.61},\n",
       " '2024-04-22': {'influenza_testing_positivityByWeek': 2.6,\n",
       "  'rhinovirus_testing_positivityByWeek': 10.92,\n",
       "  'COVID-19_testing_positivity7DayRolling': 6.73},\n",
       " '2024-04-29': {'influenza_testing_positivityByWeek': 2.69,\n",
       "  'rhinovirus_testing_positivityByWeek': 12.33,\n",
       "  'COVID-19_testing_positivity7DayRolling': 8.93},\n",
       " '2024-05-06': {'influenza_testing_positivityByWeek': 2.13,\n",
       "  'rhinovirus_testing_positivityByWeek': 12.67,\n",
       "  'COVID-19_testing_positivity7DayRolling': 10.3},\n",
       " '2024-05-13': {'influenza_testing_positivityByWeek': 1.52,\n",
       "  'rhinovirus_testing_positivityByWeek': 11.67,\n",
       "  'COVID-19_testing_positivity7DayRolling': 9.61},\n",
       " '2024-05-20': {'influenza_testing_positivityByWeek': 1.1,\n",
       "  'rhinovirus_testing_positivityByWeek': 10.93,\n",
       "  'COVID-19_testing_positivity7DayRolling': 8.97},\n",
       " '2024-05-27': {'influenza_testing_positivityByWeek': 1.0,\n",
       "  'rhinovirus_testing_positivityByWeek': 11.24,\n",
       "  'COVID-19_testing_positivity7DayRolling': 8.71},\n",
       " '2024-06-03': {'influenza_testing_positivityByWeek': 1.11,\n",
       "  'rhinovirus_testing_positivityByWeek': 10.31,\n",
       "  'COVID-19_testing_positivity7DayRolling': 9.56},\n",
       " '2024-06-10': {'influenza_testing_positivityByWeek': 0.72,\n",
       "  'rhinovirus_testing_positivityByWeek': 10.02,\n",
       "  'COVID-19_testing_positivity7DayRolling': 11.05},\n",
       " '2024-06-17': {'influenza_testing_positivityByWeek': 0.95,\n",
       "  'rhinovirus_testing_positivityByWeek': 10.7,\n",
       "  'COVID-19_testing_positivity7DayRolling': 13.79},\n",
       " '2024-06-24': {'influenza_testing_positivityByWeek': 0.81,\n",
       "  'rhinovirus_testing_positivityByWeek': 11.2,\n",
       "  'COVID-19_testing_positivity7DayRolling': 14.98},\n",
       " '2024-07-01': {'influenza_testing_positivityByWeek': 0.82,\n",
       "  'rhinovirus_testing_positivityByWeek': 10.47,\n",
       "  'COVID-19_testing_positivity7DayRolling': 14.56},\n",
       " '2024-07-08': {'influenza_testing_positivityByWeek': 0.9,\n",
       "  'rhinovirus_testing_positivityByWeek': 9.01,\n",
       "  'COVID-19_testing_positivity7DayRolling': 15.81},\n",
       " '2024-07-15': {'influenza_testing_positivityByWeek': 1.49,\n",
       "  'rhinovirus_testing_positivityByWeek': 10.07,\n",
       "  'COVID-19_testing_positivity7DayRolling': 16.18},\n",
       " '2024-07-22': {'influenza_testing_positivityByWeek': 1.43,\n",
       "  'rhinovirus_testing_positivityByWeek': 9.9,\n",
       "  'COVID-19_testing_positivity7DayRolling': 15.62},\n",
       " '2024-07-29': {'influenza_testing_positivityByWeek': 1.47,\n",
       "  'rhinovirus_testing_positivityByWeek': 8.03,\n",
       "  'COVID-19_testing_positivity7DayRolling': 13.93},\n",
       " '2024-08-05': {'influenza_testing_positivityByWeek': 1.13,\n",
       "  'rhinovirus_testing_positivityByWeek': 7.22,\n",
       "  'COVID-19_testing_positivity7DayRolling': 12.12},\n",
       " '2024-08-12': {'influenza_testing_positivityByWeek': 1.04,\n",
       "  'rhinovirus_testing_positivityByWeek': 6.06,\n",
       "  'COVID-19_testing_positivity7DayRolling': 10.61},\n",
       " '2024-08-19': {'influenza_testing_positivityByWeek': 1.34,\n",
       "  'rhinovirus_testing_positivityByWeek': 6.56,\n",
       "  'COVID-19_testing_positivity7DayRolling': 9.28},\n",
       " '2024-08-26': {'influenza_testing_positivityByWeek': 1.02,\n",
       "  'rhinovirus_testing_positivityByWeek': 6.1,\n",
       "  'COVID-19_testing_positivity7DayRolling': 10.03},\n",
       " '2024-09-02': {'influenza_testing_positivityByWeek': 1.29,\n",
       "  'rhinovirus_testing_positivityByWeek': 6.96,\n",
       "  'COVID-19_testing_positivity7DayRolling': 10.21},\n",
       " '2024-09-09': {'influenza_testing_positivityByWeek': 1.35,\n",
       "  'rhinovirus_testing_positivityByWeek': 11.4,\n",
       "  'COVID-19_testing_positivity7DayRolling': 10.31},\n",
       " '2024-09-16': {'influenza_testing_positivityByWeek': 1.61,\n",
       "  'rhinovirus_testing_positivityByWeek': 15.37,\n",
       "  'COVID-19_testing_positivity7DayRolling': 12.54},\n",
       " '2024-09-23': {'influenza_testing_positivityByWeek': 1.79,\n",
       "  'rhinovirus_testing_positivityByWeek': 16.97,\n",
       "  'COVID-19_testing_positivity7DayRolling': 13.39},\n",
       " '2024-09-30': {'influenza_testing_positivityByWeek': 2.04,\n",
       "  'rhinovirus_testing_positivityByWeek': 17.31,\n",
       "  'COVID-19_testing_positivity7DayRolling': 13.61},\n",
       " '2024-10-07': {'influenza_testing_positivityByWeek': 2.68,\n",
       "  'rhinovirus_testing_positivityByWeek': 16.95,\n",
       "  'COVID-19_testing_positivity7DayRolling': 14.35},\n",
       " '2024-10-14': {'influenza_testing_positivityByWeek': 2.38,\n",
       "  'rhinovirus_testing_positivityByWeek': 16.26,\n",
       "  'COVID-19_testing_positivity7DayRolling': 13.24},\n",
       " '2024-10-21': {'influenza_testing_positivityByWeek': 3.33,\n",
       "  'rhinovirus_testing_positivityByWeek': 15.07,\n",
       "  'COVID-19_testing_positivity7DayRolling': 11.93},\n",
       " '2024-10-28': {'influenza_testing_positivityByWeek': 3.15,\n",
       "  'rhinovirus_testing_positivityByWeek': 15.78,\n",
       "  'COVID-19_testing_positivity7DayRolling': 9.51},\n",
       " '2024-11-04': {'influenza_testing_positivityByWeek': 3.5,\n",
       "  'rhinovirus_testing_positivityByWeek': 12.81},\n",
       " '2024-11-11': {'influenza_testing_positivityByWeek': 4.75,\n",
       "  'rhinovirus_testing_positivityByWeek': 13.98},\n",
       " '2024-11-18': {'influenza_testing_positivityByWeek': 7.42,\n",
       "  'rhinovirus_testing_positivityByWeek': 12.44}}"
      ]
     },
     "execution_count": 36,
     "metadata": {},
     "output_type": "execute_result"
    }
   ],
   "source": [
    "data"
   ]
  },
  {
   "cell_type": "markdown",
   "metadata": {},
   "source": [
    "#### Sort data by the dates"
   ]
  },
  {
   "cell_type": "code",
   "execution_count": 37,
   "metadata": {},
   "outputs": [
    {
     "data": {
      "text/plain": [
       "['2024-01-01',\n",
       " '2024-01-08',\n",
       " '2024-01-15',\n",
       " '2024-01-22',\n",
       " '2024-01-29',\n",
       " '2024-02-05',\n",
       " '2024-02-12',\n",
       " '2024-02-19',\n",
       " '2024-02-26',\n",
       " '2024-03-04',\n",
       " '2024-03-11',\n",
       " '2024-03-18',\n",
       " '2024-03-25',\n",
       " '2024-04-01',\n",
       " '2024-04-08',\n",
       " '2024-04-15',\n",
       " '2024-04-22',\n",
       " '2024-04-29',\n",
       " '2024-05-06',\n",
       " '2024-05-13',\n",
       " '2024-05-20',\n",
       " '2024-05-27',\n",
       " '2024-06-03',\n",
       " '2024-06-10',\n",
       " '2024-06-17',\n",
       " '2024-06-24',\n",
       " '2024-07-01',\n",
       " '2024-07-08',\n",
       " '2024-07-15',\n",
       " '2024-07-22',\n",
       " '2024-07-29',\n",
       " '2024-08-05',\n",
       " '2024-08-12',\n",
       " '2024-08-19',\n",
       " '2024-08-26',\n",
       " '2024-09-02',\n",
       " '2024-09-09',\n",
       " '2024-09-16',\n",
       " '2024-09-23',\n",
       " '2024-09-30',\n",
       " '2024-10-07',\n",
       " '2024-10-14',\n",
       " '2024-10-21',\n",
       " '2024-10-28',\n",
       " '2024-11-04',\n",
       " '2024-11-11',\n",
       " '2024-11-18']"
      ]
     },
     "execution_count": 37,
     "metadata": {},
     "output_type": "execute_result"
    }
   ],
   "source": [
    "dates = list(data.keys())\n",
    "dates.sort()\n",
    "dates"
   ]
  },
  {
   "cell_type": "markdown",
   "metadata": {},
   "source": [
    "Convert dates to the `pandas`type for representing dates"
   ]
  },
  {
   "cell_type": "code",
   "execution_count": 38,
   "metadata": {},
   "outputs": [
    {
     "data": {
      "text/plain": [
       "['Week 1 \\n (2024-01-01)',\n",
       " 'Week 2 \\n (2024-01-08)',\n",
       " 'Week 3 \\n (2024-01-15)',\n",
       " 'Week 4 \\n (2024-01-22)',\n",
       " 'Week 5 \\n (2024-01-29)',\n",
       " 'Week 6 \\n (2024-02-05)',\n",
       " 'Week 7 \\n (2024-02-12)',\n",
       " 'Week 8 \\n (2024-02-19)',\n",
       " 'Week 9 \\n (2024-02-26)',\n",
       " 'Week 10 \\n (2024-03-04)',\n",
       " 'Week 11 \\n (2024-03-11)',\n",
       " 'Week 12 \\n (2024-03-18)',\n",
       " 'Week 13 \\n (2024-03-25)',\n",
       " 'Week 14 \\n (2024-04-01)',\n",
       " 'Week 15 \\n (2024-04-08)',\n",
       " 'Week 16 \\n (2024-04-15)',\n",
       " 'Week 17 \\n (2024-04-22)',\n",
       " 'Week 18 \\n (2024-04-29)',\n",
       " 'Week 19 \\n (2024-05-06)',\n",
       " 'Week 20 \\n (2024-05-13)',\n",
       " 'Week 21 \\n (2024-05-20)',\n",
       " 'Week 22 \\n (2024-05-27)',\n",
       " 'Week 23 \\n (2024-06-03)',\n",
       " 'Week 24 \\n (2024-06-10)',\n",
       " 'Week 25 \\n (2024-06-17)',\n",
       " 'Week 26 \\n (2024-06-24)',\n",
       " 'Week 27 \\n (2024-07-01)',\n",
       " 'Week 28 \\n (2024-07-08)',\n",
       " 'Week 29 \\n (2024-07-15)',\n",
       " 'Week 30 \\n (2024-07-22)',\n",
       " 'Week 31 \\n (2024-07-29)',\n",
       " 'Week 32 \\n (2024-08-05)',\n",
       " 'Week 33 \\n (2024-08-12)',\n",
       " 'Week 34 \\n (2024-08-19)',\n",
       " 'Week 35 \\n (2024-08-26)',\n",
       " 'Week 36 \\n (2024-09-02)',\n",
       " 'Week 37 \\n (2024-09-09)',\n",
       " 'Week 38 \\n (2024-09-16)',\n",
       " 'Week 39 \\n (2024-09-23)',\n",
       " 'Week 40 \\n (2024-09-30)',\n",
       " 'Week 41 \\n (2024-10-07)',\n",
       " 'Week 42 \\n (2024-10-14)',\n",
       " 'Week 43 \\n (2024-10-21)',\n",
       " 'Week 44 \\n (2024-10-28)',\n",
       " 'Week 45 \\n (2024-11-04)',\n",
       " 'Week 46 \\n (2024-11-11)',\n",
       " 'Week 47 \\n (2024-11-18)']"
      ]
     },
     "execution_count": 38,
     "metadata": {},
     "output_type": "execute_result"
    }
   ],
   "source": [
    "# Convert to pandas datetime\n",
    "dates_df = pd.to_datetime(dates)\n",
    "\n",
    "# Format as Week n (YYYY-MM-DD)\n",
    "formatted_dates = [f\"Week {i + 1} \\n ({date.strftime('%Y-%m-%d')})\" for i, date in enumerate(dates_df)]\n",
    "\n",
    "formatted_dates\n",
    "\n"
   ]
  },
  {
   "cell_type": "markdown",
   "metadata": {},
   "source": [
    "Define `DataFrame`"
   ]
  },
  {
   "cell_type": "code",
   "execution_count": 39,
   "metadata": {},
   "outputs": [
    {
     "data": {
      "text/html": [
       "<div>\n",
       "<style scoped>\n",
       "    .dataframe tbody tr th:only-of-type {\n",
       "        vertical-align: middle;\n",
       "    }\n",
       "\n",
       "    .dataframe tbody tr th {\n",
       "        vertical-align: top;\n",
       "    }\n",
       "\n",
       "    .dataframe thead th {\n",
       "        text-align: right;\n",
       "    }\n",
       "</style>\n",
       "<table border=\"1\" class=\"dataframe\">\n",
       "  <thead>\n",
       "    <tr style=\"text-align: right;\">\n",
       "      <th></th>\n",
       "      <th>influenza</th>\n",
       "      <th>rhinovirus</th>\n",
       "      <th>covid19</th>\n",
       "    </tr>\n",
       "  </thead>\n",
       "  <tbody>\n",
       "    <tr>\n",
       "      <th>Week 1 \\n (2024-01-01)</th>\n",
       "      <td>NaN</td>\n",
       "      <td>NaN</td>\n",
       "      <td>NaN</td>\n",
       "    </tr>\n",
       "    <tr>\n",
       "      <th>Week 2 \\n (2024-01-08)</th>\n",
       "      <td>NaN</td>\n",
       "      <td>NaN</td>\n",
       "      <td>NaN</td>\n",
       "    </tr>\n",
       "    <tr>\n",
       "      <th>Week 3 \\n (2024-01-15)</th>\n",
       "      <td>NaN</td>\n",
       "      <td>NaN</td>\n",
       "      <td>NaN</td>\n",
       "    </tr>\n",
       "    <tr>\n",
       "      <th>Week 4 \\n (2024-01-22)</th>\n",
       "      <td>NaN</td>\n",
       "      <td>NaN</td>\n",
       "      <td>NaN</td>\n",
       "    </tr>\n",
       "    <tr>\n",
       "      <th>Week 5 \\n (2024-01-29)</th>\n",
       "      <td>NaN</td>\n",
       "      <td>NaN</td>\n",
       "      <td>NaN</td>\n",
       "    </tr>\n",
       "    <tr>\n",
       "      <th>Week 6 \\n (2024-02-05)</th>\n",
       "      <td>NaN</td>\n",
       "      <td>NaN</td>\n",
       "      <td>NaN</td>\n",
       "    </tr>\n",
       "    <tr>\n",
       "      <th>Week 7 \\n (2024-02-12)</th>\n",
       "      <td>NaN</td>\n",
       "      <td>NaN</td>\n",
       "      <td>NaN</td>\n",
       "    </tr>\n",
       "    <tr>\n",
       "      <th>Week 8 \\n (2024-02-19)</th>\n",
       "      <td>NaN</td>\n",
       "      <td>NaN</td>\n",
       "      <td>NaN</td>\n",
       "    </tr>\n",
       "    <tr>\n",
       "      <th>Week 9 \\n (2024-02-26)</th>\n",
       "      <td>NaN</td>\n",
       "      <td>NaN</td>\n",
       "      <td>NaN</td>\n",
       "    </tr>\n",
       "    <tr>\n",
       "      <th>Week 10 \\n (2024-03-04)</th>\n",
       "      <td>NaN</td>\n",
       "      <td>NaN</td>\n",
       "      <td>NaN</td>\n",
       "    </tr>\n",
       "    <tr>\n",
       "      <th>Week 11 \\n (2024-03-11)</th>\n",
       "      <td>NaN</td>\n",
       "      <td>NaN</td>\n",
       "      <td>NaN</td>\n",
       "    </tr>\n",
       "    <tr>\n",
       "      <th>Week 12 \\n (2024-03-18)</th>\n",
       "      <td>NaN</td>\n",
       "      <td>NaN</td>\n",
       "      <td>NaN</td>\n",
       "    </tr>\n",
       "    <tr>\n",
       "      <th>Week 13 \\n (2024-03-25)</th>\n",
       "      <td>NaN</td>\n",
       "      <td>NaN</td>\n",
       "      <td>NaN</td>\n",
       "    </tr>\n",
       "    <tr>\n",
       "      <th>Week 14 \\n (2024-04-01)</th>\n",
       "      <td>NaN</td>\n",
       "      <td>NaN</td>\n",
       "      <td>NaN</td>\n",
       "    </tr>\n",
       "    <tr>\n",
       "      <th>Week 15 \\n (2024-04-08)</th>\n",
       "      <td>NaN</td>\n",
       "      <td>NaN</td>\n",
       "      <td>NaN</td>\n",
       "    </tr>\n",
       "    <tr>\n",
       "      <th>Week 16 \\n (2024-04-15)</th>\n",
       "      <td>NaN</td>\n",
       "      <td>NaN</td>\n",
       "      <td>NaN</td>\n",
       "    </tr>\n",
       "    <tr>\n",
       "      <th>Week 17 \\n (2024-04-22)</th>\n",
       "      <td>NaN</td>\n",
       "      <td>NaN</td>\n",
       "      <td>NaN</td>\n",
       "    </tr>\n",
       "    <tr>\n",
       "      <th>Week 18 \\n (2024-04-29)</th>\n",
       "      <td>NaN</td>\n",
       "      <td>NaN</td>\n",
       "      <td>NaN</td>\n",
       "    </tr>\n",
       "    <tr>\n",
       "      <th>Week 19 \\n (2024-05-06)</th>\n",
       "      <td>NaN</td>\n",
       "      <td>NaN</td>\n",
       "      <td>NaN</td>\n",
       "    </tr>\n",
       "    <tr>\n",
       "      <th>Week 20 \\n (2024-05-13)</th>\n",
       "      <td>NaN</td>\n",
       "      <td>NaN</td>\n",
       "      <td>NaN</td>\n",
       "    </tr>\n",
       "    <tr>\n",
       "      <th>Week 21 \\n (2024-05-20)</th>\n",
       "      <td>NaN</td>\n",
       "      <td>NaN</td>\n",
       "      <td>NaN</td>\n",
       "    </tr>\n",
       "    <tr>\n",
       "      <th>Week 22 \\n (2024-05-27)</th>\n",
       "      <td>NaN</td>\n",
       "      <td>NaN</td>\n",
       "      <td>NaN</td>\n",
       "    </tr>\n",
       "    <tr>\n",
       "      <th>Week 23 \\n (2024-06-03)</th>\n",
       "      <td>NaN</td>\n",
       "      <td>NaN</td>\n",
       "      <td>NaN</td>\n",
       "    </tr>\n",
       "    <tr>\n",
       "      <th>Week 24 \\n (2024-06-10)</th>\n",
       "      <td>NaN</td>\n",
       "      <td>NaN</td>\n",
       "      <td>NaN</td>\n",
       "    </tr>\n",
       "    <tr>\n",
       "      <th>Week 25 \\n (2024-06-17)</th>\n",
       "      <td>NaN</td>\n",
       "      <td>NaN</td>\n",
       "      <td>NaN</td>\n",
       "    </tr>\n",
       "    <tr>\n",
       "      <th>Week 26 \\n (2024-06-24)</th>\n",
       "      <td>NaN</td>\n",
       "      <td>NaN</td>\n",
       "      <td>NaN</td>\n",
       "    </tr>\n",
       "    <tr>\n",
       "      <th>Week 27 \\n (2024-07-01)</th>\n",
       "      <td>NaN</td>\n",
       "      <td>NaN</td>\n",
       "      <td>NaN</td>\n",
       "    </tr>\n",
       "    <tr>\n",
       "      <th>Week 28 \\n (2024-07-08)</th>\n",
       "      <td>NaN</td>\n",
       "      <td>NaN</td>\n",
       "      <td>NaN</td>\n",
       "    </tr>\n",
       "    <tr>\n",
       "      <th>Week 29 \\n (2024-07-15)</th>\n",
       "      <td>NaN</td>\n",
       "      <td>NaN</td>\n",
       "      <td>NaN</td>\n",
       "    </tr>\n",
       "    <tr>\n",
       "      <th>Week 30 \\n (2024-07-22)</th>\n",
       "      <td>NaN</td>\n",
       "      <td>NaN</td>\n",
       "      <td>NaN</td>\n",
       "    </tr>\n",
       "    <tr>\n",
       "      <th>Week 31 \\n (2024-07-29)</th>\n",
       "      <td>NaN</td>\n",
       "      <td>NaN</td>\n",
       "      <td>NaN</td>\n",
       "    </tr>\n",
       "    <tr>\n",
       "      <th>Week 32 \\n (2024-08-05)</th>\n",
       "      <td>NaN</td>\n",
       "      <td>NaN</td>\n",
       "      <td>NaN</td>\n",
       "    </tr>\n",
       "    <tr>\n",
       "      <th>Week 33 \\n (2024-08-12)</th>\n",
       "      <td>NaN</td>\n",
       "      <td>NaN</td>\n",
       "      <td>NaN</td>\n",
       "    </tr>\n",
       "    <tr>\n",
       "      <th>Week 34 \\n (2024-08-19)</th>\n",
       "      <td>NaN</td>\n",
       "      <td>NaN</td>\n",
       "      <td>NaN</td>\n",
       "    </tr>\n",
       "    <tr>\n",
       "      <th>Week 35 \\n (2024-08-26)</th>\n",
       "      <td>NaN</td>\n",
       "      <td>NaN</td>\n",
       "      <td>NaN</td>\n",
       "    </tr>\n",
       "    <tr>\n",
       "      <th>Week 36 \\n (2024-09-02)</th>\n",
       "      <td>NaN</td>\n",
       "      <td>NaN</td>\n",
       "      <td>NaN</td>\n",
       "    </tr>\n",
       "    <tr>\n",
       "      <th>Week 37 \\n (2024-09-09)</th>\n",
       "      <td>NaN</td>\n",
       "      <td>NaN</td>\n",
       "      <td>NaN</td>\n",
       "    </tr>\n",
       "    <tr>\n",
       "      <th>Week 38 \\n (2024-09-16)</th>\n",
       "      <td>NaN</td>\n",
       "      <td>NaN</td>\n",
       "      <td>NaN</td>\n",
       "    </tr>\n",
       "    <tr>\n",
       "      <th>Week 39 \\n (2024-09-23)</th>\n",
       "      <td>NaN</td>\n",
       "      <td>NaN</td>\n",
       "      <td>NaN</td>\n",
       "    </tr>\n",
       "    <tr>\n",
       "      <th>Week 40 \\n (2024-09-30)</th>\n",
       "      <td>NaN</td>\n",
       "      <td>NaN</td>\n",
       "      <td>NaN</td>\n",
       "    </tr>\n",
       "    <tr>\n",
       "      <th>Week 41 \\n (2024-10-07)</th>\n",
       "      <td>NaN</td>\n",
       "      <td>NaN</td>\n",
       "      <td>NaN</td>\n",
       "    </tr>\n",
       "    <tr>\n",
       "      <th>Week 42 \\n (2024-10-14)</th>\n",
       "      <td>NaN</td>\n",
       "      <td>NaN</td>\n",
       "      <td>NaN</td>\n",
       "    </tr>\n",
       "    <tr>\n",
       "      <th>Week 43 \\n (2024-10-21)</th>\n",
       "      <td>NaN</td>\n",
       "      <td>NaN</td>\n",
       "      <td>NaN</td>\n",
       "    </tr>\n",
       "    <tr>\n",
       "      <th>Week 44 \\n (2024-10-28)</th>\n",
       "      <td>NaN</td>\n",
       "      <td>NaN</td>\n",
       "      <td>NaN</td>\n",
       "    </tr>\n",
       "    <tr>\n",
       "      <th>Week 45 \\n (2024-11-04)</th>\n",
       "      <td>NaN</td>\n",
       "      <td>NaN</td>\n",
       "      <td>NaN</td>\n",
       "    </tr>\n",
       "    <tr>\n",
       "      <th>Week 46 \\n (2024-11-11)</th>\n",
       "      <td>NaN</td>\n",
       "      <td>NaN</td>\n",
       "      <td>NaN</td>\n",
       "    </tr>\n",
       "    <tr>\n",
       "      <th>Week 47 \\n (2024-11-18)</th>\n",
       "      <td>NaN</td>\n",
       "      <td>NaN</td>\n",
       "      <td>NaN</td>\n",
       "    </tr>\n",
       "  </tbody>\n",
       "</table>\n",
       "</div>"
      ],
      "text/plain": [
       "                        influenza rhinovirus covid19\n",
       "Week 1 \\n (2024-01-01)        NaN        NaN     NaN\n",
       "Week 2 \\n (2024-01-08)        NaN        NaN     NaN\n",
       "Week 3 \\n (2024-01-15)        NaN        NaN     NaN\n",
       "Week 4 \\n (2024-01-22)        NaN        NaN     NaN\n",
       "Week 5 \\n (2024-01-29)        NaN        NaN     NaN\n",
       "Week 6 \\n (2024-02-05)        NaN        NaN     NaN\n",
       "Week 7 \\n (2024-02-12)        NaN        NaN     NaN\n",
       "Week 8 \\n (2024-02-19)        NaN        NaN     NaN\n",
       "Week 9 \\n (2024-02-26)        NaN        NaN     NaN\n",
       "Week 10 \\n (2024-03-04)       NaN        NaN     NaN\n",
       "Week 11 \\n (2024-03-11)       NaN        NaN     NaN\n",
       "Week 12 \\n (2024-03-18)       NaN        NaN     NaN\n",
       "Week 13 \\n (2024-03-25)       NaN        NaN     NaN\n",
       "Week 14 \\n (2024-04-01)       NaN        NaN     NaN\n",
       "Week 15 \\n (2024-04-08)       NaN        NaN     NaN\n",
       "Week 16 \\n (2024-04-15)       NaN        NaN     NaN\n",
       "Week 17 \\n (2024-04-22)       NaN        NaN     NaN\n",
       "Week 18 \\n (2024-04-29)       NaN        NaN     NaN\n",
       "Week 19 \\n (2024-05-06)       NaN        NaN     NaN\n",
       "Week 20 \\n (2024-05-13)       NaN        NaN     NaN\n",
       "Week 21 \\n (2024-05-20)       NaN        NaN     NaN\n",
       "Week 22 \\n (2024-05-27)       NaN        NaN     NaN\n",
       "Week 23 \\n (2024-06-03)       NaN        NaN     NaN\n",
       "Week 24 \\n (2024-06-10)       NaN        NaN     NaN\n",
       "Week 25 \\n (2024-06-17)       NaN        NaN     NaN\n",
       "Week 26 \\n (2024-06-24)       NaN        NaN     NaN\n",
       "Week 27 \\n (2024-07-01)       NaN        NaN     NaN\n",
       "Week 28 \\n (2024-07-08)       NaN        NaN     NaN\n",
       "Week 29 \\n (2024-07-15)       NaN        NaN     NaN\n",
       "Week 30 \\n (2024-07-22)       NaN        NaN     NaN\n",
       "Week 31 \\n (2024-07-29)       NaN        NaN     NaN\n",
       "Week 32 \\n (2024-08-05)       NaN        NaN     NaN\n",
       "Week 33 \\n (2024-08-12)       NaN        NaN     NaN\n",
       "Week 34 \\n (2024-08-19)       NaN        NaN     NaN\n",
       "Week 35 \\n (2024-08-26)       NaN        NaN     NaN\n",
       "Week 36 \\n (2024-09-02)       NaN        NaN     NaN\n",
       "Week 37 \\n (2024-09-09)       NaN        NaN     NaN\n",
       "Week 38 \\n (2024-09-16)       NaN        NaN     NaN\n",
       "Week 39 \\n (2024-09-23)       NaN        NaN     NaN\n",
       "Week 40 \\n (2024-09-30)       NaN        NaN     NaN\n",
       "Week 41 \\n (2024-10-07)       NaN        NaN     NaN\n",
       "Week 42 \\n (2024-10-14)       NaN        NaN     NaN\n",
       "Week 43 \\n (2024-10-21)       NaN        NaN     NaN\n",
       "Week 44 \\n (2024-10-28)       NaN        NaN     NaN\n",
       "Week 45 \\n (2024-11-04)       NaN        NaN     NaN\n",
       "Week 46 \\n (2024-11-11)       NaN        NaN     NaN\n",
       "Week 47 \\n (2024-11-18)       NaN        NaN     NaN"
      ]
     },
     "execution_count": 39,
     "metadata": {},
     "output_type": "execute_result"
    }
   ],
   "source": [
    "timeseriesdf=pd.DataFrame(index=formatted_dates, columns=['influenza', 'rhinovirus', 'covid19'])\n",
    "timeseriesdf"
   ]
  },
  {
   "cell_type": "markdown",
   "metadata": {},
   "source": [
    "Fill in the values"
   ]
  },
  {
   "cell_type": "code",
   "execution_count": 40,
   "metadata": {},
   "outputs": [
    {
     "data": {
      "text/html": [
       "<div>\n",
       "<style scoped>\n",
       "    .dataframe tbody tr th:only-of-type {\n",
       "        vertical-align: middle;\n",
       "    }\n",
       "\n",
       "    .dataframe tbody tr th {\n",
       "        vertical-align: top;\n",
       "    }\n",
       "\n",
       "    .dataframe thead th {\n",
       "        text-align: right;\n",
       "    }\n",
       "</style>\n",
       "<table border=\"1\" class=\"dataframe\">\n",
       "  <thead>\n",
       "    <tr style=\"text-align: right;\">\n",
       "      <th></th>\n",
       "      <th>influenza</th>\n",
       "      <th>rhinovirus</th>\n",
       "      <th>covid19</th>\n",
       "    </tr>\n",
       "  </thead>\n",
       "  <tbody>\n",
       "    <tr>\n",
       "      <th>Week 1 \\n (2024-01-01)</th>\n",
       "      <td>9.7</td>\n",
       "      <td>9.81</td>\n",
       "      <td>12.83</td>\n",
       "    </tr>\n",
       "    <tr>\n",
       "      <th>Week 2 \\n (2024-01-08)</th>\n",
       "      <td>9.98</td>\n",
       "      <td>6.78</td>\n",
       "      <td>11.67</td>\n",
       "    </tr>\n",
       "    <tr>\n",
       "      <th>Week 3 \\n (2024-01-15)</th>\n",
       "      <td>13.76</td>\n",
       "      <td>7.82</td>\n",
       "      <td>10.84</td>\n",
       "    </tr>\n",
       "    <tr>\n",
       "      <th>Week 4 \\n (2024-01-22)</th>\n",
       "      <td>17.65</td>\n",
       "      <td>8.44</td>\n",
       "      <td>10.73</td>\n",
       "    </tr>\n",
       "    <tr>\n",
       "      <th>Week 5 \\n (2024-01-29)</th>\n",
       "      <td>15.44</td>\n",
       "      <td>8.59</td>\n",
       "      <td>9.39</td>\n",
       "    </tr>\n",
       "    <tr>\n",
       "      <th>Week 6 \\n (2024-02-05)</th>\n",
       "      <td>12.88</td>\n",
       "      <td>8.67</td>\n",
       "      <td>8.15</td>\n",
       "    </tr>\n",
       "    <tr>\n",
       "      <th>Week 7 \\n (2024-02-12)</th>\n",
       "      <td>10.94</td>\n",
       "      <td>8.33</td>\n",
       "      <td>6.62</td>\n",
       "    </tr>\n",
       "    <tr>\n",
       "      <th>Week 8 \\n (2024-02-19)</th>\n",
       "      <td>8.29</td>\n",
       "      <td>8.4</td>\n",
       "      <td>5.69</td>\n",
       "    </tr>\n",
       "    <tr>\n",
       "      <th>Week 9 \\n (2024-02-26)</th>\n",
       "      <td>6.39</td>\n",
       "      <td>9.13</td>\n",
       "      <td>4.69</td>\n",
       "    </tr>\n",
       "    <tr>\n",
       "      <th>Week 10 \\n (2024-03-04)</th>\n",
       "      <td>5.82</td>\n",
       "      <td>8.96</td>\n",
       "      <td>4.57</td>\n",
       "    </tr>\n",
       "    <tr>\n",
       "      <th>Week 11 \\n (2024-03-11)</th>\n",
       "      <td>6.51</td>\n",
       "      <td>10.56</td>\n",
       "      <td>4.79</td>\n",
       "    </tr>\n",
       "    <tr>\n",
       "      <th>Week 12 \\n (2024-03-18)</th>\n",
       "      <td>5.02</td>\n",
       "      <td>11.44</td>\n",
       "      <td>4.49</td>\n",
       "    </tr>\n",
       "    <tr>\n",
       "      <th>Week 13 \\n (2024-03-25)</th>\n",
       "      <td>3.91</td>\n",
       "      <td>12.4</td>\n",
       "      <td>4.42</td>\n",
       "    </tr>\n",
       "    <tr>\n",
       "      <th>Week 14 \\n (2024-04-01)</th>\n",
       "      <td>3.82</td>\n",
       "      <td>11.42</td>\n",
       "      <td>4.88</td>\n",
       "    </tr>\n",
       "    <tr>\n",
       "      <th>Week 15 \\n (2024-04-08)</th>\n",
       "      <td>2.84</td>\n",
       "      <td>9.52</td>\n",
       "      <td>5.05</td>\n",
       "    </tr>\n",
       "    <tr>\n",
       "      <th>Week 16 \\n (2024-04-15)</th>\n",
       "      <td>2.46</td>\n",
       "      <td>10.49</td>\n",
       "      <td>5.61</td>\n",
       "    </tr>\n",
       "    <tr>\n",
       "      <th>Week 17 \\n (2024-04-22)</th>\n",
       "      <td>2.6</td>\n",
       "      <td>10.92</td>\n",
       "      <td>6.73</td>\n",
       "    </tr>\n",
       "    <tr>\n",
       "      <th>Week 18 \\n (2024-04-29)</th>\n",
       "      <td>2.69</td>\n",
       "      <td>12.33</td>\n",
       "      <td>8.93</td>\n",
       "    </tr>\n",
       "    <tr>\n",
       "      <th>Week 19 \\n (2024-05-06)</th>\n",
       "      <td>2.13</td>\n",
       "      <td>12.67</td>\n",
       "      <td>10.3</td>\n",
       "    </tr>\n",
       "    <tr>\n",
       "      <th>Week 20 \\n (2024-05-13)</th>\n",
       "      <td>1.52</td>\n",
       "      <td>11.67</td>\n",
       "      <td>9.61</td>\n",
       "    </tr>\n",
       "    <tr>\n",
       "      <th>Week 21 \\n (2024-05-20)</th>\n",
       "      <td>1.1</td>\n",
       "      <td>10.93</td>\n",
       "      <td>8.97</td>\n",
       "    </tr>\n",
       "    <tr>\n",
       "      <th>Week 22 \\n (2024-05-27)</th>\n",
       "      <td>1.0</td>\n",
       "      <td>11.24</td>\n",
       "      <td>8.71</td>\n",
       "    </tr>\n",
       "    <tr>\n",
       "      <th>Week 23 \\n (2024-06-03)</th>\n",
       "      <td>1.11</td>\n",
       "      <td>10.31</td>\n",
       "      <td>9.56</td>\n",
       "    </tr>\n",
       "    <tr>\n",
       "      <th>Week 24 \\n (2024-06-10)</th>\n",
       "      <td>0.72</td>\n",
       "      <td>10.02</td>\n",
       "      <td>11.05</td>\n",
       "    </tr>\n",
       "    <tr>\n",
       "      <th>Week 25 \\n (2024-06-17)</th>\n",
       "      <td>0.95</td>\n",
       "      <td>10.7</td>\n",
       "      <td>13.79</td>\n",
       "    </tr>\n",
       "    <tr>\n",
       "      <th>Week 26 \\n (2024-06-24)</th>\n",
       "      <td>0.81</td>\n",
       "      <td>11.2</td>\n",
       "      <td>14.98</td>\n",
       "    </tr>\n",
       "    <tr>\n",
       "      <th>Week 27 \\n (2024-07-01)</th>\n",
       "      <td>0.82</td>\n",
       "      <td>10.47</td>\n",
       "      <td>14.56</td>\n",
       "    </tr>\n",
       "    <tr>\n",
       "      <th>Week 28 \\n (2024-07-08)</th>\n",
       "      <td>0.9</td>\n",
       "      <td>9.01</td>\n",
       "      <td>15.81</td>\n",
       "    </tr>\n",
       "    <tr>\n",
       "      <th>Week 29 \\n (2024-07-15)</th>\n",
       "      <td>1.49</td>\n",
       "      <td>10.07</td>\n",
       "      <td>16.18</td>\n",
       "    </tr>\n",
       "    <tr>\n",
       "      <th>Week 30 \\n (2024-07-22)</th>\n",
       "      <td>1.43</td>\n",
       "      <td>9.9</td>\n",
       "      <td>15.62</td>\n",
       "    </tr>\n",
       "    <tr>\n",
       "      <th>Week 31 \\n (2024-07-29)</th>\n",
       "      <td>1.47</td>\n",
       "      <td>8.03</td>\n",
       "      <td>13.93</td>\n",
       "    </tr>\n",
       "    <tr>\n",
       "      <th>Week 32 \\n (2024-08-05)</th>\n",
       "      <td>1.13</td>\n",
       "      <td>7.22</td>\n",
       "      <td>12.12</td>\n",
       "    </tr>\n",
       "    <tr>\n",
       "      <th>Week 33 \\n (2024-08-12)</th>\n",
       "      <td>1.04</td>\n",
       "      <td>6.06</td>\n",
       "      <td>10.61</td>\n",
       "    </tr>\n",
       "    <tr>\n",
       "      <th>Week 34 \\n (2024-08-19)</th>\n",
       "      <td>1.34</td>\n",
       "      <td>6.56</td>\n",
       "      <td>9.28</td>\n",
       "    </tr>\n",
       "    <tr>\n",
       "      <th>Week 35 \\n (2024-08-26)</th>\n",
       "      <td>1.02</td>\n",
       "      <td>6.1</td>\n",
       "      <td>10.03</td>\n",
       "    </tr>\n",
       "    <tr>\n",
       "      <th>Week 36 \\n (2024-09-02)</th>\n",
       "      <td>1.29</td>\n",
       "      <td>6.96</td>\n",
       "      <td>10.21</td>\n",
       "    </tr>\n",
       "    <tr>\n",
       "      <th>Week 37 \\n (2024-09-09)</th>\n",
       "      <td>1.35</td>\n",
       "      <td>11.4</td>\n",
       "      <td>10.31</td>\n",
       "    </tr>\n",
       "    <tr>\n",
       "      <th>Week 38 \\n (2024-09-16)</th>\n",
       "      <td>1.61</td>\n",
       "      <td>15.37</td>\n",
       "      <td>12.54</td>\n",
       "    </tr>\n",
       "    <tr>\n",
       "      <th>Week 39 \\n (2024-09-23)</th>\n",
       "      <td>1.79</td>\n",
       "      <td>16.97</td>\n",
       "      <td>13.39</td>\n",
       "    </tr>\n",
       "    <tr>\n",
       "      <th>Week 40 \\n (2024-09-30)</th>\n",
       "      <td>2.04</td>\n",
       "      <td>17.31</td>\n",
       "      <td>13.61</td>\n",
       "    </tr>\n",
       "    <tr>\n",
       "      <th>Week 41 \\n (2024-10-07)</th>\n",
       "      <td>2.68</td>\n",
       "      <td>16.95</td>\n",
       "      <td>14.35</td>\n",
       "    </tr>\n",
       "    <tr>\n",
       "      <th>Week 42 \\n (2024-10-14)</th>\n",
       "      <td>2.38</td>\n",
       "      <td>16.26</td>\n",
       "      <td>13.24</td>\n",
       "    </tr>\n",
       "    <tr>\n",
       "      <th>Week 43 \\n (2024-10-21)</th>\n",
       "      <td>3.33</td>\n",
       "      <td>15.07</td>\n",
       "      <td>11.93</td>\n",
       "    </tr>\n",
       "    <tr>\n",
       "      <th>Week 44 \\n (2024-10-28)</th>\n",
       "      <td>3.15</td>\n",
       "      <td>15.78</td>\n",
       "      <td>9.51</td>\n",
       "    </tr>\n",
       "    <tr>\n",
       "      <th>Week 45 \\n (2024-11-04)</th>\n",
       "      <td>3.5</td>\n",
       "      <td>12.81</td>\n",
       "      <td>None</td>\n",
       "    </tr>\n",
       "    <tr>\n",
       "      <th>Week 46 \\n (2024-11-11)</th>\n",
       "      <td>4.75</td>\n",
       "      <td>13.98</td>\n",
       "      <td>None</td>\n",
       "    </tr>\n",
       "    <tr>\n",
       "      <th>Week 47 \\n (2024-11-18)</th>\n",
       "      <td>7.42</td>\n",
       "      <td>12.44</td>\n",
       "      <td>None</td>\n",
       "    </tr>\n",
       "  </tbody>\n",
       "</table>\n",
       "</div>"
      ],
      "text/plain": [
       "                        influenza rhinovirus covid19\n",
       "Week 1 \\n (2024-01-01)        9.7       9.81   12.83\n",
       "Week 2 \\n (2024-01-08)       9.98       6.78   11.67\n",
       "Week 3 \\n (2024-01-15)      13.76       7.82   10.84\n",
       "Week 4 \\n (2024-01-22)      17.65       8.44   10.73\n",
       "Week 5 \\n (2024-01-29)      15.44       8.59    9.39\n",
       "Week 6 \\n (2024-02-05)      12.88       8.67    8.15\n",
       "Week 7 \\n (2024-02-12)      10.94       8.33    6.62\n",
       "Week 8 \\n (2024-02-19)       8.29        8.4    5.69\n",
       "Week 9 \\n (2024-02-26)       6.39       9.13    4.69\n",
       "Week 10 \\n (2024-03-04)      5.82       8.96    4.57\n",
       "Week 11 \\n (2024-03-11)      6.51      10.56    4.79\n",
       "Week 12 \\n (2024-03-18)      5.02      11.44    4.49\n",
       "Week 13 \\n (2024-03-25)      3.91       12.4    4.42\n",
       "Week 14 \\n (2024-04-01)      3.82      11.42    4.88\n",
       "Week 15 \\n (2024-04-08)      2.84       9.52    5.05\n",
       "Week 16 \\n (2024-04-15)      2.46      10.49    5.61\n",
       "Week 17 \\n (2024-04-22)       2.6      10.92    6.73\n",
       "Week 18 \\n (2024-04-29)      2.69      12.33    8.93\n",
       "Week 19 \\n (2024-05-06)      2.13      12.67    10.3\n",
       "Week 20 \\n (2024-05-13)      1.52      11.67    9.61\n",
       "Week 21 \\n (2024-05-20)       1.1      10.93    8.97\n",
       "Week 22 \\n (2024-05-27)       1.0      11.24    8.71\n",
       "Week 23 \\n (2024-06-03)      1.11      10.31    9.56\n",
       "Week 24 \\n (2024-06-10)      0.72      10.02   11.05\n",
       "Week 25 \\n (2024-06-17)      0.95       10.7   13.79\n",
       "Week 26 \\n (2024-06-24)      0.81       11.2   14.98\n",
       "Week 27 \\n (2024-07-01)      0.82      10.47   14.56\n",
       "Week 28 \\n (2024-07-08)       0.9       9.01   15.81\n",
       "Week 29 \\n (2024-07-15)      1.49      10.07   16.18\n",
       "Week 30 \\n (2024-07-22)      1.43        9.9   15.62\n",
       "Week 31 \\n (2024-07-29)      1.47       8.03   13.93\n",
       "Week 32 \\n (2024-08-05)      1.13       7.22   12.12\n",
       "Week 33 \\n (2024-08-12)      1.04       6.06   10.61\n",
       "Week 34 \\n (2024-08-19)      1.34       6.56    9.28\n",
       "Week 35 \\n (2024-08-26)      1.02        6.1   10.03\n",
       "Week 36 \\n (2024-09-02)      1.29       6.96   10.21\n",
       "Week 37 \\n (2024-09-09)      1.35       11.4   10.31\n",
       "Week 38 \\n (2024-09-16)      1.61      15.37   12.54\n",
       "Week 39 \\n (2024-09-23)      1.79      16.97   13.39\n",
       "Week 40 \\n (2024-09-30)      2.04      17.31   13.61\n",
       "Week 41 \\n (2024-10-07)      2.68      16.95   14.35\n",
       "Week 42 \\n (2024-10-14)      2.38      16.26   13.24\n",
       "Week 43 \\n (2024-10-21)      3.33      15.07   11.93\n",
       "Week 44 \\n (2024-10-28)      3.15      15.78    9.51\n",
       "Week 45 \\n (2024-11-04)       3.5      12.81    None\n",
       "Week 46 \\n (2024-11-11)      4.75      13.98    None\n",
       "Week 47 \\n (2024-11-18)      7.42      12.44    None"
      ]
     },
     "execution_count": 40,
     "metadata": {},
     "output_type": "execute_result"
    }
   ],
   "source": [
    "# Map formatted_dates to original dates\n",
    "date_mapping = dict(zip(formatted_dates, dates))\n",
    "\n",
    "# Translate the columns to metrics\n",
    "metrics = {'influenza': 'influenza_testing_positivityByWeek',\n",
    "            'rhinovirus' : 'rhinovirus_testing_positivityByWeek',\n",
    "            'covid19': 'COVID-19_testing_positivity7DayRolling'\n",
    "           }\n",
    "\n",
    "# Replace NaN values with metrics values\n",
    "for date, entry in data.items():  # each entry is a dictionary with influenza and rhinovirus\n",
    "    formatted_date = [k for k, v in date_mapping.items() if v == date][0]\n",
    "    for column in ['influenza', 'rhinovirus', 'covid19']:\n",
    "        metric_name = metrics[column]\n",
    "        # Fill in None value to 0.0\n",
    "        # value = entry.get(metric_name, 0.0)\n",
    "\n",
    "        # Not filling NaN value with 0.0 due to log graph later\n",
    "        value = entry.get(metric_name)\n",
    "        # Access a specific location in the dataframe\n",
    "        timeseriesdf.loc[formatted_date, column] = value\n",
    "\n",
    "# Fill in any remaining \"holes\" due to missing dates\n",
    "# timeseriesdf.fillna(0.0, inplace=True)\n",
    "# Not filling NaN value with 0.0 due to log graph later\n",
    "\n",
    "# Display the resulting DataFrame\n",
    "timeseriesdf\n"
   ]
  },
  {
   "cell_type": "markdown",
   "metadata": {},
   "source": [
    "### Plotting"
   ]
  },
  {
   "cell_type": "markdown",
   "metadata": {},
   "source": [
    "#### Create a basic plot of the data"
   ]
  },
  {
   "cell_type": "code",
   "execution_count": 41,
   "metadata": {},
   "outputs": [
    {
     "data": {
      "text/plain": [
       "<matplotlib.legend.Legend at 0x10955e1b0>"
      ]
     },
     "execution_count": 41,
     "metadata": {},
     "output_type": "execute_result"
    },
    {
     "data": {
      "image/png": "[encoded data removed]",
      "text/plain": [
       "<Figure size 1280x960 with 1 Axes>"
      ]
     },
     "metadata": {},
     "output_type": "display_data"
    }
   ],
   "source": [
    "ax = timeseriesdf.plot()\n",
    "ax.set_title('The percentage of positive PCR tests of a 7-day period in 2024 for Influenza, Rhinovirus and COVID-19 \\n')\n",
    "\n",
    "# Update legend labels to capitalise the first letter of each word\n",
    "legend_labels = [label.title() for label in ax.get_legend_handles_labels()[1]]\n",
    "ax.legend(legend_labels)"
   ]
  },
  {
   "cell_type": "markdown",
   "metadata": {},
   "source": [
    "#### In log scale"
   ]
  },
  {
   "cell_type": "code",
   "execution_count": 42,
   "metadata": {},
   "outputs": [
    {
     "data": {
      "text/plain": [
       "<matplotlib.legend.Legend at 0x10955cb60>"
      ]
     },
     "execution_count": 42,
     "metadata": {},
     "output_type": "execute_result"
    },
    {
     "data": {
      "image/png": "[encoded data removed]",
      "text/plain": [
       "<Figure size 1280x960 with 1 Axes>"
      ]
     },
     "metadata": {},
     "output_type": "display_data"
    }
   ],
   "source": [
    "ax=timeseriesdf.plot(logy=True) \n",
    "ax.set_title('The percentage of positive PCR tests of a 7-day period in 2024 for Influenza, Rhinovirus and COVID-19 \\n')\n",
    "\n",
    "# Update legend labels to capitalise the first letter of each word\n",
    "legend_labels = [label.title() for label in ax.get_legend_handles_labels()[1]]\n",
    "ax.legend(legend_labels)"
   ]
  },
  {
   "cell_type": "code",
   "execution_count": 43,
   "metadata": {},
   "outputs": [],
   "source": [
    "timeseriesdf.to_pickle(\"timeseriesdf.pkl\")"
   ]
  },
  {
   "cell_type": "markdown",
   "metadata": {},
   "source": [
    "***"
   ]
  },
  {
   "cell_type": "markdown",
   "metadata": {},
   "source": [
    "## Adding Interactive Controls"
   ]
  },
  {
   "cell_type": "markdown",
   "metadata": {},
   "source": [
    "Add interactive controls to graphs using ipywidgets library"
   ]
  },
  {
   "cell_type": "code",
   "execution_count": 44,
   "metadata": {},
   "outputs": [],
   "source": [
    "from IPython.display import clear_output\n",
    "import ipywidgets as wdg"
   ]
  },
  {
   "cell_type": "markdown",
   "metadata": {},
   "source": [
    "### Updating data"
   ]
  },
  {
   "cell_type": "markdown",
   "metadata": {},
   "source": [
    "Create a button that user can click to pull the most recent API data"
   ]
  },
  {
   "cell_type": "code",
   "execution_count": 45,
   "metadata": {},
   "outputs": [
    {
     "data": {
      "application/vnd.jupyter.widget-view+json": {
       "model_id": "db8c88682eec49a3800d0f91479e74ff",
       "version_major": 2,
       "version_minor": 0
      },
      "text/plain": [
       "Button(description='Refresh data', icon='download', style=ButtonStyle(), tooltip='Click to download current En…"
      ]
     },
     "metadata": {},
     "output_type": "display_data"
    }
   ],
   "source": [
    "# API access function\n",
    "def api_access(button):\n",
    "    # Ignore the button parameter\n",
    "    # Pulling the APIs\n",
    "    influenza = iapi.get_all_pages(filters)\n",
    "    rhinovirus = rapi.get_all_pages(filters)\n",
    "    covid19 = capi.get_all_pages(filters)\n",
    "\n",
    "\n",
    "    # Switch the icon on the button to 'check' after done with pulling the APIs\n",
    "    # Disable the button - no need to pull the APIs again\n",
    "    apibutton.icon = \"check\"\n",
    "    apibutton.disabled = True\n",
    "\n",
    "# Button features\n",
    "apibutton = wdg.Button(\n",
    "    description = 'Refresh data', # Text on the button\n",
    "    disabled = False, # need to be enabled at first\n",
    "    button_style = '',\n",
    "    tooltip = 'Click to download current England Public Health data',\n",
    "    icon = 'download' # Download icon for the button\n",
    ")\n",
    "\n",
    "# Call the api_access function with the button\n",
    "apibutton.on_click(api_access)\n",
    "\n",
    "# Display the widget using iPython function\n",
    "display(apibutton)"
   ]
  },
  {
   "cell_type": "markdown",
   "metadata": {},
   "source": [
    "### Single-control graphs"
   ]
  },
  {
   "cell_type": "markdown",
   "metadata": {},
   "source": [
    "Add an interactive control to a graph"
   ]
  },
  {
   "cell_type": "code",
   "execution_count": 46,
   "metadata": {},
   "outputs": [],
   "source": [
    "# Import the dataframe computed from the json files or current data downloaded from the APIs\n",
    "timeseriesdf = pd.read_pickle(\"timeseriesdf.pkl\")"
   ]
  },
  {
   "cell_type": "code",
   "execution_count": 47,
   "metadata": {},
   "outputs": [
    {
     "name": "stdout",
     "output_type": "stream",
     "text": [
      "                        influenza rhinovirus covid19 month\n",
      "Week 1 \\n (2024-01-01)        9.7       9.81   12.83    01\n",
      "Week 2 \\n (2024-01-08)       9.98       6.78   11.67    01\n",
      "Week 3 \\n (2024-01-15)      13.76       7.82   10.84    01\n",
      "Week 4 \\n (2024-01-22)      17.65       8.44   10.73    01\n",
      "Week 5 \\n (2024-01-29)      15.44       8.59    9.39    01\n",
      "Week 6 \\n (2024-02-05)      12.88       8.67    8.15    02\n",
      "Week 7 \\n (2024-02-12)      10.94       8.33    6.62    02\n",
      "Week 8 \\n (2024-02-19)       8.29        8.4    5.69    02\n",
      "Week 9 \\n (2024-02-26)       6.39       9.13    4.69    02\n",
      "Week 10 \\n (2024-03-04)      5.82       8.96    4.57    03\n",
      "Week 11 \\n (2024-03-11)      6.51      10.56    4.79    03\n",
      "Week 12 \\n (2024-03-18)      5.02      11.44    4.49    03\n",
      "Week 13 \\n (2024-03-25)      3.91       12.4    4.42    03\n",
      "Week 14 \\n (2024-04-01)      3.82      11.42    4.88    04\n",
      "Week 15 \\n (2024-04-08)      2.84       9.52    5.05    04\n",
      "Week 16 \\n (2024-04-15)      2.46      10.49    5.61    04\n",
      "Week 17 \\n (2024-04-22)       2.6      10.92    6.73    04\n",
      "Week 18 \\n (2024-04-29)      2.69      12.33    8.93    04\n",
      "Week 19 \\n (2024-05-06)      2.13      12.67    10.3    05\n",
      "Week 20 \\n (2024-05-13)      1.52      11.67    9.61    05\n",
      "Week 21 \\n (2024-05-20)       1.1      10.93    8.97    05\n",
      "Week 22 \\n (2024-05-27)       1.0      11.24    8.71    05\n",
      "Week 23 \\n (2024-06-03)      1.11      10.31    9.56    06\n",
      "Week 24 \\n (2024-06-10)      0.72      10.02   11.05    06\n",
      "Week 25 \\n (2024-06-17)      0.95       10.7   13.79    06\n",
      "Week 26 \\n (2024-06-24)      0.81       11.2   14.98    06\n",
      "Week 27 \\n (2024-07-01)      0.82      10.47   14.56    07\n",
      "Week 28 \\n (2024-07-08)       0.9       9.01   15.81    07\n",
      "Week 29 \\n (2024-07-15)      1.49      10.07   16.18    07\n",
      "Week 30 \\n (2024-07-22)      1.43        9.9   15.62    07\n",
      "Week 31 \\n (2024-07-29)      1.47       8.03   13.93    07\n",
      "Week 32 \\n (2024-08-05)      1.13       7.22   12.12    08\n",
      "Week 33 \\n (2024-08-12)      1.04       6.06   10.61    08\n",
      "Week 34 \\n (2024-08-19)      1.34       6.56    9.28    08\n",
      "Week 35 \\n (2024-08-26)      1.02        6.1   10.03    08\n",
      "Week 36 \\n (2024-09-02)      1.29       6.96   10.21    09\n",
      "Week 37 \\n (2024-09-09)      1.35       11.4   10.31    09\n",
      "Week 38 \\n (2024-09-16)      1.61      15.37   12.54    09\n",
      "Week 39 \\n (2024-09-23)      1.79      16.97   13.39    09\n",
      "Week 40 \\n (2024-09-30)      2.04      17.31   13.61    09\n",
      "Week 41 \\n (2024-10-07)      2.68      16.95   14.35    10\n",
      "Week 42 \\n (2024-10-14)      2.38      16.26   13.24    10\n",
      "Week 43 \\n (2024-10-21)      3.33      15.07   11.93    10\n",
      "Week 44 \\n (2024-10-28)      3.15      15.78    9.51    10\n",
      "Week 45 \\n (2024-11-04)       3.5      12.81    None    11\n",
      "Week 46 \\n (2024-11-11)      4.75      13.98    None    11\n",
      "Week 47 \\n (2024-11-18)      7.42      12.44    None    11\n"
     ]
    }
   ],
   "source": [
    "# Extract month from formatted_date by manipulating strings\n",
    "timeseriesdf['month'] = [date.split(\"(\")[-1][5:7] for date in formatted_dates]\n",
    "print(timeseriesdf)\n"
   ]
  },
  {
   "cell_type": "code",
   "execution_count": 48,
   "metadata": {},
   "outputs": [
    {
     "name": "stdout",
     "output_type": "stream",
     "text": [
      "      influenza rhinovirus  covid19\n",
      "month                              \n",
      "01       13.306      8.288   11.092\n",
      "02        9.625     8.6325   6.2875\n",
      "03        5.315      10.84   4.5675\n",
      "04        2.882     10.936     6.24\n",
      "05       1.4375    11.6275   9.3975\n",
      "06       0.8975    10.5575   12.345\n",
      "07        1.222      9.496    15.22\n",
      "08       1.1325      6.485    10.51\n",
      "09        1.616     13.602   12.012\n",
      "10        2.885     16.015  12.2575\n",
      "11     5.223333  13.076667      NaN\n"
     ]
    }
   ],
   "source": [
    "# Aggregate Data by Month\n",
    "monthly_data = timeseriesdf.groupby('month').mean()\n",
    "\n",
    "print(monthly_data)\n"
   ]
  },
  {
   "cell_type": "code",
   "execution_count": 49,
   "metadata": {},
   "outputs": [
    {
     "data": {
      "application/vnd.jupyter.widget-view+json": {
       "model_id": "337e16f4b3924be6a50b04ace6b080e7",
       "version_major": 2,
       "version_minor": 0
      },
      "text/plain": [
       "Select(description='Month: ', index=10, options=('01', '02', '03', '04', '05', '06', '07', '08', '09', '10', '…"
      ]
     },
     "metadata": {},
     "output_type": "display_data"
    },
    {
     "data": {
      "application/vnd.jupyter.widget-view+json": {
       "model_id": "72a8bb82a7cf42a9a9dfc25807c7a98b",
       "version_major": 2,
       "version_minor": 0
      },
      "text/plain": [
       "Output()"
      ]
     },
     "metadata": {},
     "output_type": "display_data"
    }
   ],
   "source": [
    "month = wdg.Select(\n",
    "    # Options\n",
    "    options = monthly_data.index.unique(), # Use months for dropdown\n",
    "    value = monthly_data.index[-1], # Most recent month for initial value\n",
    "    rows = 1, # Rows of the selection box\n",
    "    description = 'Month: ',\n",
    "    disabled = False\n",
    ")\n",
    "\n",
    "def monthly_data_graph(graphmonth):\n",
    "    # Filter data for selected month\n",
    "    month_data = monthly_data.loc[[graphmonth]]\n",
    "\n",
    "    # Plotting data for Influenza and Rhinovirus\n",
    "    ax = month_data.plot(kind='bar', figsize=(10, 6), title=f\"The average percentage of positive PCR tests in 2024-{graphmonth} for Influenza, Rhinovirus and COVID-19 \\n\")\n",
    "    plt.xticks(rotation=0)\n",
    "\n",
    "    # Set y-axis limit to 20 to see the percentage change\n",
    "    ax.set_ylim(0, 20)\n",
    "\n",
    "    # Update legend labels to capitalise the first letter of each word\n",
    "    legend_labels = [label.title() for label in ax.get_legend_handles_labels()[1]]\n",
    "    plt.legend(legend_labels)\n",
    "\n",
    "    # Update the plot\n",
    "    plt.show()\n",
    "\n",
    "# Interactive output\n",
    "output = wdg.interactive_output(monthly_data_graph, {'graphmonth': month})\n",
    "\n",
    "# Display the widget and its output\n",
    "display(month, output)\n"
   ]
  },
  {
   "cell_type": "markdown",
   "metadata": {},
   "source": [
    "### Multiple-control graphs"
   ]
  },
  {
   "cell_type": "markdown",
   "metadata": {},
   "source": [
    "Add a couple of controls"
   ]
  },
  {
   "cell_type": "code",
   "execution_count": 50,
   "metadata": {},
   "outputs": [],
   "source": [
    "# Import the dataframe computed from the json files or current data downloaded from the APIs\n",
    "timeseriesdf = pd.read_pickle(\"timeseriesdf.pkl\")"
   ]
  },
  {
   "cell_type": "code",
   "execution_count": null,
   "metadata": {},
   "outputs": [
    {
     "data": {
      "application/vnd.jupyter.widget-view+json": {
       "model_id": "b861fa2b9fe44f21bc5f2f14254ce13e",
       "version_major": 2,
       "version_minor": 0
      },
      "text/plain": [
       "HBox(children=(RadioButtons(description='Scale: ', options=('Linear', 'Log'), value='Linear'), SelectMultiple(…"
      ]
     },
     "metadata": {},
     "output_type": "display_data"
    },
    {
     "data": {
      "application/vnd.jupyter.widget-view+json": {
       "model_id": "d8356724a6cb4520bcde1531f558d963",
       "version_major": 2,
       "version_minor": 0
      },
      "text/plain": [
       "Output()"
      ]
     },
     "metadata": {},
     "output_type": "display_data"
    }
   ],
   "source": [
    "# Select Topic\n",
    "series = wdg.SelectMultiple(\n",
    "    # Options - Used tuple to use Titlecase for options\n",
    "    options = [('Influenza', 'influenza'), ('Rhinovirus', 'rhinovirus'), ('Covid19', 'covid19')],\n",
    "    value = ['influenza', 'rhinovirus', 'covid19'],\n",
    "    rows = 3,\n",
    "    description = 'Topic: ',\n",
    "    disabled = False\n",
    ")\n",
    "\n",
    "# Select graph scale\n",
    "scale = wdg.RadioButtons(\n",
    "    options = ['Linear', 'Log'],\n",
    "    description = 'Scale: ',\n",
    "    disabled = False\n",
    ")\n",
    "\n",
    "controls = wdg.HBox([scale, series])\n",
    "\n",
    "def timeseries_graph(gcols, gscale):\n",
    "    \n",
    "    if gscale == 'Linear':\n",
    "        logscale=False\n",
    "    else:\n",
    "        logscale = True\n",
    "    ncols = len(gcols)\n",
    "    if ncols > 0:\n",
    "        ax = timeseriesdf[list(gcols)].plot(logy = logscale)\n",
    "        # Create a dynamic title based on selected topics\n",
    "        selected_topics = \", \".join([col.title() for col in gcols])\n",
    "        ax.set_title(f\"\\n The percentage of positive PCR tests of a 7-day period in 2024 for {selected_topics} \\n\")\n",
    "        ax.legend([col.title() for col in gcols])\n",
    "        plt.show() # Update the graph\n",
    "    else:\n",
    "        print(\"Click to select topic for graph\")\n",
    "        print(\"CTRL(or Cmd for Mac) - Click to select more than one topic\")\n",
    "\n",
    "# Output in widget graph\n",
    "graph = wdg.interactive_output(timeseries_graph, {'gcols': series, 'gscale': scale})\n",
    "\n",
    "# Display all\n",
    "display(controls, graph)\n"
   ]
  }
 ],
 "metadata": {
  "kernelspec": {
   "display_name": "Python 3",
   "language": "python",
   "name": "python3"
  },
  "language_info": {
   "codemirror_mode": {
    "name": "ipython",
    "version": 3
   },
   "file_extension": ".py",
   "mimetype": "text/x-python",
   "name": "python",
   "nbconvert_exporter": "python",
   "pygments_lexer": "ipython3",
   "version": "3.12.7"
  }
 },
 "nbformat": 4,
 "nbformat_minor": 2
}
